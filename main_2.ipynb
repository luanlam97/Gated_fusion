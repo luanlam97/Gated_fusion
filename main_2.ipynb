{
 "cells": [
  {
   "cell_type": "code",
   "execution_count": 1,
   "metadata": {
    "executionInfo": {
     "elapsed": 170,
     "status": "ok",
     "timestamp": 1733628858958,
     "user": {
      "displayName": "Kai Alcayde",
      "userId": "09994846452498228592"
     },
     "user_tz": 480
    },
    "id": "GHQV_abDT1lv"
   },
   "outputs": [],
   "source": [
    "%load_ext autoreload\n",
    "%autoreload 2"
   ]
  },
  {
   "cell_type": "code",
   "execution_count": 2,
   "metadata": {
    "colab": {
     "base_uri": "https://localhost:8080/"
    },
    "executionInfo": {
     "elapsed": 13805,
     "status": "ok",
     "timestamp": 1733628873108,
     "user": {
      "displayName": "Kai Alcayde",
      "userId": "09994846452498228592"
     },
     "user_tz": 480
    },
    "id": "HDqeV1QvXa-5",
    "outputId": "fe54afd5-6a65-4498-eacd-4bae78ec0903"
   },
   "outputs": [
    {
     "ename": "ModuleNotFoundError",
     "evalue": "No module named 'google'",
     "output_type": "error",
     "traceback": [
      "\u001b[1;31m---------------------------------------------------------------------------\u001b[0m",
      "\u001b[1;31mModuleNotFoundError\u001b[0m                       Traceback (most recent call last)",
      "Cell \u001b[1;32mIn[2], line 1\u001b[0m\n\u001b[1;32m----> 1\u001b[0m \u001b[38;5;28;01mfrom\u001b[39;00m \u001b[38;5;21;01mgoogle\u001b[39;00m\u001b[38;5;21;01m.\u001b[39;00m\u001b[38;5;21;01mcolab\u001b[39;00m \u001b[38;5;28;01mimport\u001b[39;00m drive\n\u001b[0;32m      2\u001b[0m drive\u001b[38;5;241m.\u001b[39mmount(\u001b[38;5;124m'\u001b[39m\u001b[38;5;124m/content/drive\u001b[39m\u001b[38;5;124m'\u001b[39m)\n",
      "\u001b[1;31mModuleNotFoundError\u001b[0m: No module named 'google'"
     ]
    }
   ],
   "source": [
    "from google.colab import drive\n",
    "drive.mount('/content/drive')"
   ]
  },
  {
   "cell_type": "code",
   "execution_count": 3,
   "metadata": {
    "executionInfo": {
     "elapsed": 7,
     "status": "ok",
     "timestamp": 1733628873108,
     "user": {
      "displayName": "Kai Alcayde",
      "userId": "09994846452498228592"
     },
     "user_tz": 480
    },
    "id": "LgytAIinVz9-"
   },
   "outputs": [],
   "source": [
    "import sys\n",
    "import os\n",
    "sys.path.append('/content/drive/MyDrive/ColabNotebooks/DL/ViT')\n",
    "os.chdir(\"/content/drive/MyDrive/ColabNotebooks/DL/ViT\")"
   ]
  },
  {
   "cell_type": "code",
   "execution_count": 3,
   "metadata": {
    "colab": {
     "base_uri": "https://localhost:8080/"
    },
    "collapsed": true,
    "executionInfo": {
     "elapsed": 5086,
     "status": "ok",
     "timestamp": 1733628878188,
     "user": {
      "displayName": "Kai Alcayde",
      "userId": "09994846452498228592"
     },
     "user_tz": 480
    },
    "id": "xk3qMXhRWWDX",
    "outputId": "fd0b70fd-fcd6-4a91-ee80-418dd338e6c5"
   },
   "outputs": [
    {
     "name": "stdout",
     "output_type": "stream",
     "text": [
      "Requirement already satisfied: pandas in c:\\users\\luan\\anaconda3\\envs\\dl-hw1\\lib\\site-packages (from -r requirements.txt (line 1)) (2.2.3)\n",
      "Requirement already satisfied: numpy in c:\\users\\luan\\anaconda3\\envs\\dl-hw1\\lib\\site-packages (from -r requirements.txt (line 2)) (1.26.3)\n",
      "Requirement already satisfied: kagglehub in c:\\users\\luan\\anaconda3\\envs\\dl-hw1\\lib\\site-packages (from -r requirements.txt (line 3)) (0.3.4)\n",
      "Requirement already satisfied: scipy in c:\\users\\luan\\anaconda3\\envs\\dl-hw1\\lib\\site-packages (from -r requirements.txt (line 4)) (1.14.1)\n",
      "Requirement already satisfied: yfinance in c:\\users\\luan\\anaconda3\\envs\\dl-hw1\\lib\\site-packages (from -r requirements.txt (line 5)) (0.2.50)\n",
      "Requirement already satisfied: scikit-learn in c:\\users\\luan\\anaconda3\\envs\\dl-hw1\\lib\\site-packages (from -r requirements.txt (line 6)) (1.5.2)\n",
      "Requirement already satisfied: pandas_ta in c:\\users\\luan\\anaconda3\\envs\\dl-hw1\\lib\\site-packages (from -r requirements.txt (line 7)) (0.3.14b0)\n",
      "Requirement already satisfied: transformers in c:\\users\\luan\\anaconda3\\envs\\dl-hw1\\lib\\site-packages (from -r requirements.txt (line 8)) (4.46.3)\n",
      "Requirement already satisfied: statsmodels in c:\\users\\luan\\anaconda3\\envs\\dl-hw1\\lib\\site-packages (from -r requirements.txt (line 9)) (0.14.4)\n",
      "Requirement already satisfied: requests_ratelimiter in c:\\users\\luan\\anaconda3\\envs\\dl-hw1\\lib\\site-packages (from -r requirements.txt (line 10)) (0.7.0)\n",
      "Requirement already satisfied: python-dateutil>=2.8.2 in c:\\users\\luan\\anaconda3\\envs\\dl-hw1\\lib\\site-packages (from pandas->-r requirements.txt (line 1)) (2.8.2)\n",
      "Requirement already satisfied: pytz>=2020.1 in c:\\users\\luan\\anaconda3\\envs\\dl-hw1\\lib\\site-packages (from pandas->-r requirements.txt (line 1)) (2024.2)\n",
      "Requirement already satisfied: tzdata>=2022.7 in c:\\users\\luan\\anaconda3\\envs\\dl-hw1\\lib\\site-packages (from pandas->-r requirements.txt (line 1)) (2024.2)\n",
      "Requirement already satisfied: packaging in c:\\users\\luan\\anaconda3\\envs\\dl-hw1\\lib\\site-packages (from kagglehub->-r requirements.txt (line 3)) (23.1)\n",
      "Requirement already satisfied: requests in c:\\users\\luan\\anaconda3\\envs\\dl-hw1\\lib\\site-packages (from kagglehub->-r requirements.txt (line 3)) (2.32.3)\n",
      "Requirement already satisfied: tqdm in c:\\users\\luan\\anaconda3\\envs\\dl-hw1\\lib\\site-packages (from kagglehub->-r requirements.txt (line 3)) (4.67.0)\n",
      "Requirement already satisfied: multitasking>=0.0.7 in c:\\users\\luan\\anaconda3\\envs\\dl-hw1\\lib\\site-packages (from yfinance->-r requirements.txt (line 5)) (0.0.11)\n",
      "Requirement already satisfied: lxml>=4.9.1 in c:\\users\\luan\\anaconda3\\envs\\dl-hw1\\lib\\site-packages (from yfinance->-r requirements.txt (line 5)) (5.3.0)\n",
      "Requirement already satisfied: platformdirs>=2.0.0 in c:\\users\\luan\\anaconda3\\envs\\dl-hw1\\lib\\site-packages (from yfinance->-r requirements.txt (line 5)) (4.3.6)\n",
      "Requirement already satisfied: frozendict>=2.3.4 in c:\\users\\luan\\anaconda3\\envs\\dl-hw1\\lib\\site-packages (from yfinance->-r requirements.txt (line 5)) (2.4.6)\n",
      "Requirement already satisfied: peewee>=3.16.2 in c:\\users\\luan\\anaconda3\\envs\\dl-hw1\\lib\\site-packages (from yfinance->-r requirements.txt (line 5)) (3.17.8)\n",
      "Requirement already satisfied: beautifulsoup4>=4.11.1 in c:\\users\\luan\\anaconda3\\envs\\dl-hw1\\lib\\site-packages (from yfinance->-r requirements.txt (line 5)) (4.12.3)\n",
      "Requirement already satisfied: html5lib>=1.1 in c:\\users\\luan\\anaconda3\\envs\\dl-hw1\\lib\\site-packages (from yfinance->-r requirements.txt (line 5)) (1.1)\n",
      "Requirement already satisfied: joblib>=1.2.0 in c:\\users\\luan\\anaconda3\\envs\\dl-hw1\\lib\\site-packages (from scikit-learn->-r requirements.txt (line 6)) (1.4.2)\n",
      "Requirement already satisfied: threadpoolctl>=3.1.0 in c:\\users\\luan\\anaconda3\\envs\\dl-hw1\\lib\\site-packages (from scikit-learn->-r requirements.txt (line 6)) (3.5.0)\n",
      "Requirement already satisfied: filelock in c:\\users\\luan\\anaconda3\\envs\\dl-hw1\\lib\\site-packages (from transformers->-r requirements.txt (line 8)) (3.16.1)\n",
      "Requirement already satisfied: huggingface-hub<1.0,>=0.23.2 in c:\\users\\luan\\anaconda3\\envs\\dl-hw1\\lib\\site-packages (from transformers->-r requirements.txt (line 8)) (0.26.2)\n",
      "Requirement already satisfied: pyyaml>=5.1 in c:\\users\\luan\\anaconda3\\envs\\dl-hw1\\lib\\site-packages (from transformers->-r requirements.txt (line 8)) (5.4.1)\n",
      "Requirement already satisfied: regex!=2019.12.17 in c:\\users\\luan\\anaconda3\\envs\\dl-hw1\\lib\\site-packages (from transformers->-r requirements.txt (line 8)) (2024.11.6)\n",
      "Requirement already satisfied: tokenizers<0.21,>=0.20 in c:\\users\\luan\\anaconda3\\envs\\dl-hw1\\lib\\site-packages (from transformers->-r requirements.txt (line 8)) (0.20.3)\n",
      "Requirement already satisfied: safetensors>=0.4.1 in c:\\users\\luan\\anaconda3\\envs\\dl-hw1\\lib\\site-packages (from transformers->-r requirements.txt (line 8)) (0.4.5)\n",
      "Requirement already satisfied: patsy>=0.5.6 in c:\\users\\luan\\anaconda3\\envs\\dl-hw1\\lib\\site-packages (from statsmodels->-r requirements.txt (line 9)) (1.0.1)\n",
      "Requirement already satisfied: pyrate-limiter<3.0 in c:\\users\\luan\\anaconda3\\envs\\dl-hw1\\lib\\site-packages (from requests_ratelimiter->-r requirements.txt (line 10)) (2.10.0)\n",
      "Requirement already satisfied: soupsieve>1.2 in c:\\users\\luan\\anaconda3\\envs\\dl-hw1\\lib\\site-packages (from beautifulsoup4>=4.11.1->yfinance->-r requirements.txt (line 5)) (2.6)\n",
      "Requirement already satisfied: six>=1.9 in c:\\users\\luan\\anaconda3\\envs\\dl-hw1\\lib\\site-packages (from html5lib>=1.1->yfinance->-r requirements.txt (line 5)) (1.16.0)\n",
      "Requirement already satisfied: webencodings in c:\\users\\luan\\anaconda3\\envs\\dl-hw1\\lib\\site-packages (from html5lib>=1.1->yfinance->-r requirements.txt (line 5)) (0.5.1)\n",
      "Requirement already satisfied: fsspec>=2023.5.0 in c:\\users\\luan\\anaconda3\\envs\\dl-hw1\\lib\\site-packages (from huggingface-hub<1.0,>=0.23.2->transformers->-r requirements.txt (line 8)) (2024.10.0)\n",
      "Requirement already satisfied: typing-extensions>=3.7.4.3 in c:\\users\\luan\\anaconda3\\envs\\dl-hw1\\lib\\site-packages (from huggingface-hub<1.0,>=0.23.2->transformers->-r requirements.txt (line 8)) (4.12.2)\n",
      "Requirement already satisfied: charset-normalizer<4,>=2 in c:\\users\\luan\\anaconda3\\envs\\dl-hw1\\lib\\site-packages (from requests->kagglehub->-r requirements.txt (line 3)) (3.4.0)\n",
      "Requirement already satisfied: idna<4,>=2.5 in c:\\users\\luan\\anaconda3\\envs\\dl-hw1\\lib\\site-packages (from requests->kagglehub->-r requirements.txt (line 3)) (3.10)\n",
      "Requirement already satisfied: urllib3<3,>=1.21.1 in c:\\users\\luan\\anaconda3\\envs\\dl-hw1\\lib\\site-packages (from requests->kagglehub->-r requirements.txt (line 3)) (2.2.3)\n",
      "Requirement already satisfied: certifi>=2017.4.17 in c:\\users\\luan\\anaconda3\\envs\\dl-hw1\\lib\\site-packages (from requests->kagglehub->-r requirements.txt (line 3)) (2024.8.30)\n",
      "Requirement already satisfied: colorama in c:\\users\\luan\\anaconda3\\envs\\dl-hw1\\lib\\site-packages (from tqdm->kagglehub->-r requirements.txt (line 3)) (0.4.6)\n",
      "Note: you may need to restart the kernel to use updated packages.\n"
     ]
    }
   ],
   "source": [
    "pip install -r requirements.txt"
   ]
  },
  {
   "cell_type": "code",
   "execution_count": 10,
   "metadata": {
    "executionInfo": {
     "elapsed": 16414,
     "status": "ok",
     "timestamp": 1733628894595,
     "user": {
      "displayName": "Kai Alcayde",
      "userId": "09994846452498228592"
     },
     "user_tz": 480
    },
    "id": "OXL-o0EoVTzn"
   },
   "outputs": [],
   "source": [
    "import torch\n",
    "import matplotlib.pyplot as plt\n",
    "from data_util import get_data_from_kaggle, restructure_date_information, get_static_df, one_label_scale_static_df, scale_stock_data\n",
    "from constant import Constant\n",
    "import pandas as pd\n",
    "from torch.utils.data import DataLoader ,random_split\n",
    "from data_util import get_feature_length\n",
    "import glob\n",
    "import data\n",
    "from data import ViT_Dataset\n",
    "import sklearn\n",
    "from transformers import ViTConfig, ViTModel\n",
    "import torch.nn as nn\n",
    "import torch.nn.functional as F\n",
    "from ViT import ViT_Model"
   ]
  },
  {
   "cell_type": "code",
   "execution_count": 9,
   "metadata": {},
   "outputs": [
    {
     "name": "stdout",
     "output_type": "stream",
     "text": [
      "Collecting einops\n",
      "  Downloading einops-0.8.0-py3-none-any.whl.metadata (12 kB)\n",
      "Downloading einops-0.8.0-py3-none-any.whl (43 kB)\n",
      "   ---------------------------------------- 0.0/43.2 kB ? eta -:--:--\n",
      "   ---------------------------- ----------- 30.7/43.2 kB 1.4 MB/s eta 0:00:01\n",
      "   ---------------------------------------- 43.2/43.2 kB 1.1 MB/s eta 0:00:00\n",
      "Installing collected packages: einops\n",
      "Successfully installed einops-0.8.0\n",
      "Note: you may need to restart the kernel to use updated packages.\n"
     ]
    }
   ],
   "source": [
    "pip install einops "
   ]
  },
  {
   "cell_type": "code",
   "execution_count": 11,
   "metadata": {
    "colab": {
     "base_uri": "https://localhost:8080/"
    },
    "executionInfo": {
     "elapsed": 23,
     "status": "ok",
     "timestamp": 1733628894596,
     "user": {
      "displayName": "Kai Alcayde",
      "userId": "09994846452498228592"
     },
     "user_tz": 480
    },
    "id": "C-eVrVKjVmTq",
    "outputId": "6a933491-5171-478b-d15f-c540311b8f51"
   },
   "outputs": [
    {
     "name": "stdout",
     "output_type": "stream",
     "text": [
      "cuda\n"
     ]
    }
   ],
   "source": [
    "if torch.cuda.is_available():\n",
    "    device = 'cuda'\n",
    "else:\n",
    "    device = 'cpu'\n",
    "print(device)"
   ]
  },
  {
   "cell_type": "code",
   "execution_count": 12,
   "metadata": {
    "executionInfo": {
     "elapsed": 167,
     "status": "ok",
     "timestamp": 1733628894742,
     "user": {
      "displayName": "Kai Alcayde",
      "userId": "09994846452498228592"
     },
     "user_tz": 480
    },
    "id": "0mFq5kUiYmXj"
   },
   "outputs": [],
   "source": [
    "constant = Constant() # initialize variables we will use"
   ]
  },
  {
   "cell_type": "markdown",
   "metadata": {
    "id": "CIlhmpfXg4sm"
   },
   "source": [
    "\n",
    "\n",
    "---\n",
    "\n",
    "\\\n",
    "\n",
    "Preprocesssing\n",
    "\n",
    "\\\n",
    "\n",
    "---"
   ]
  },
  {
   "cell_type": "code",
   "execution_count": 13,
   "metadata": {
    "executionInfo": {
     "elapsed": 4,
     "status": "ok",
     "timestamp": 1733628894743,
     "user": {
      "displayName": "Kai Alcayde",
      "userId": "09994846452498228592"
     },
     "user_tz": 480
    },
    "id": "lDQsdvyIY0eR"
   },
   "outputs": [],
   "source": [
    "market = 'sp500' # [forbes2000, nasdaq, nyse, sp500]\n",
    "year = '2017'"
   ]
  },
  {
   "cell_type": "code",
   "execution_count": 14,
   "metadata": {
    "executionInfo": {
     "elapsed": 4,
     "status": "ok",
     "timestamp": 1733628894743,
     "user": {
      "displayName": "Kai Alcayde",
      "userId": "09994846452498228592"
     },
     "user_tz": 480
    },
    "id": "5_Q6oZ84d-lB"
   },
   "outputs": [],
   "source": [
    "# stock = get_data_from_kaggle(market = 'sp500', start_date = f'01-01-{year}')"
   ]
  },
  {
   "cell_type": "code",
   "execution_count": 15,
   "metadata": {
    "collapsed": true,
    "executionInfo": {
     "elapsed": 2986,
     "status": "ok",
     "timestamp": 1733628897726,
     "user": {
      "displayName": "Kai Alcayde",
      "userId": "09994846452498228592"
     },
     "user_tz": 480
    },
    "id": "tp3hVMwbbQ12"
   },
   "outputs": [],
   "source": [
    "# generating static df can take a while because there is a rate limit with yfinance api\n",
    "# in my case I don't need statick\n",
    "# static = get_static_df(stock,  constant.static_variables)\n",
    "# stock.to_csv(f'dataset/sp500_{year}.csv', index=False)\n",
    "stock = pd.read_csv(f'dataset/sp500_{year}.csv')"
   ]
  },
  {
   "cell_type": "code",
   "execution_count": 16,
   "metadata": {
    "collapsed": true,
    "executionInfo": {
     "elapsed": 4,
     "status": "ok",
     "timestamp": 1733628897726,
     "user": {
      "displayName": "Kai Alcayde",
      "userId": "09994846452498228592"
     },
     "user_tz": 480
    },
    "id": "8rCB68Qb5sVN"
   },
   "outputs": [],
   "source": [
    "# static = get_static_df(stock,  constant.static_variables)"
   ]
  },
  {
   "cell_type": "code",
   "execution_count": 17,
   "metadata": {
    "executionInfo": {
     "elapsed": 4,
     "status": "ok",
     "timestamp": 1733628897727,
     "user": {
      "displayName": "Kai Alcayde",
      "userId": "09994846452498228592"
     },
     "user_tz": 480
    },
    "id": "KsaI9cltfLoJ"
   },
   "outputs": [],
   "source": [
    "stock = stock.dropna()"
   ]
  },
  {
   "cell_type": "code",
   "execution_count": 18,
   "metadata": {
    "executionInfo": {
     "elapsed": 184,
     "status": "ok",
     "timestamp": 1733628897908,
     "user": {
      "displayName": "Kai Alcayde",
      "userId": "09994846452498228592"
     },
     "user_tz": 480
    },
    "id": "LHPULAJohzrT"
   },
   "outputs": [],
   "source": [
    "# note: stock name and order might not be the same as the others as the names are out of order\n",
    "# check with team after"
   ]
  },
  {
   "cell_type": "code",
   "execution_count": 19,
   "metadata": {
    "colab": {
     "base_uri": "https://localhost:8080/",
     "height": 614
    },
    "collapsed": true,
    "executionInfo": {
     "elapsed": 18901,
     "status": "ok",
     "timestamp": 1733628916807,
     "user": {
      "displayName": "Kai Alcayde",
      "userId": "09994846452498228592"
     },
     "user_tz": 480
    },
    "id": "-e6fuxN_gGcW",
    "outputId": "1b73186a-b65d-4e27-9ddb-0523f9f3e29b"
   },
   "outputs": [
    {
     "data": {
      "text/html": [
       "<div>\n",
       "<style scoped>\n",
       "    .dataframe tbody tr th:only-of-type {\n",
       "        vertical-align: middle;\n",
       "    }\n",
       "\n",
       "    .dataframe tbody tr th {\n",
       "        vertical-align: top;\n",
       "    }\n",
       "\n",
       "    .dataframe thead th {\n",
       "        text-align: right;\n",
       "    }\n",
       "</style>\n",
       "<table border=\"1\" class=\"dataframe\">\n",
       "  <thead>\n",
       "    <tr style=\"text-align: right;\">\n",
       "      <th></th>\n",
       "      <th>Date</th>\n",
       "      <th>Low</th>\n",
       "      <th>Open</th>\n",
       "      <th>Volume</th>\n",
       "      <th>High</th>\n",
       "      <th>Close</th>\n",
       "      <th>Adjusted Close</th>\n",
       "      <th>Stock Name</th>\n",
       "    </tr>\n",
       "  </thead>\n",
       "  <tbody>\n",
       "    <tr>\n",
       "      <th>0</th>\n",
       "      <td>2017-01-03</td>\n",
       "      <td>0.000000</td>\n",
       "      <td>0.000000</td>\n",
       "      <td>0.108231</td>\n",
       "      <td>0.000000</td>\n",
       "      <td>0.000000</td>\n",
       "      <td>0.000000</td>\n",
       "      <td>A</td>\n",
       "    </tr>\n",
       "    <tr>\n",
       "      <th>1</th>\n",
       "      <td>2017-01-04</td>\n",
       "      <td>0.008217</td>\n",
       "      <td>0.007499</td>\n",
       "      <td>0.113930</td>\n",
       "      <td>0.004743</td>\n",
       "      <td>0.004594</td>\n",
       "      <td>0.004368</td>\n",
       "      <td>A</td>\n",
       "    </tr>\n",
       "    <tr>\n",
       "      <th>2</th>\n",
       "      <td>2017-01-05</td>\n",
       "      <td>0.004717</td>\n",
       "      <td>0.008399</td>\n",
       "      <td>0.091776</td>\n",
       "      <td>0.002409</td>\n",
       "      <td>0.000377</td>\n",
       "      <td>0.000358</td>\n",
       "      <td>A</td>\n",
       "    </tr>\n",
       "    <tr>\n",
       "      <th>3</th>\n",
       "      <td>2017-01-06</td>\n",
       "      <td>0.006239</td>\n",
       "      <td>0.005249</td>\n",
       "      <td>0.188017</td>\n",
       "      <td>0.009938</td>\n",
       "      <td>0.011296</td>\n",
       "      <td>0.010740</td>\n",
       "      <td>A</td>\n",
       "    </tr>\n",
       "    <tr>\n",
       "      <th>4</th>\n",
       "      <td>2017-01-09</td>\n",
       "      <td>0.016511</td>\n",
       "      <td>0.015598</td>\n",
       "      <td>0.166526</td>\n",
       "      <td>0.013627</td>\n",
       "      <td>0.012426</td>\n",
       "      <td>0.011814</td>\n",
       "      <td>A</td>\n",
       "    </tr>\n",
       "    <tr>\n",
       "      <th>...</th>\n",
       "      <td>...</td>\n",
       "      <td>...</td>\n",
       "      <td>...</td>\n",
       "      <td>...</td>\n",
       "      <td>...</td>\n",
       "      <td>...</td>\n",
       "      <td>...</td>\n",
       "      <td>...</td>\n",
       "    </tr>\n",
       "    <tr>\n",
       "      <th>605210</th>\n",
       "      <td>2022-12-06</td>\n",
       "      <td>0.518709</td>\n",
       "      <td>0.522872</td>\n",
       "      <td>0.132240</td>\n",
       "      <td>0.522823</td>\n",
       "      <td>0.516862</td>\n",
       "      <td>0.526255</td>\n",
       "      <td>ZTS</td>\n",
       "    </tr>\n",
       "    <tr>\n",
       "      <th>605211</th>\n",
       "      <td>2022-12-07</td>\n",
       "      <td>0.504664</td>\n",
       "      <td>0.516396</td>\n",
       "      <td>0.170338</td>\n",
       "      <td>0.514121</td>\n",
       "      <td>0.502468</td>\n",
       "      <td>0.511865</td>\n",
       "      <td>ZTS</td>\n",
       "    </tr>\n",
       "    <tr>\n",
       "      <th>605212</th>\n",
       "      <td>2022-12-08</td>\n",
       "      <td>0.503731</td>\n",
       "      <td>0.503906</td>\n",
       "      <td>0.156301</td>\n",
       "      <td>0.516971</td>\n",
       "      <td>0.520101</td>\n",
       "      <td>0.529492</td>\n",
       "      <td>ZTS</td>\n",
       "    </tr>\n",
       "    <tr>\n",
       "      <th>605213</th>\n",
       "      <td>2022-12-09</td>\n",
       "      <td>0.522077</td>\n",
       "      <td>0.521433</td>\n",
       "      <td>0.236376</td>\n",
       "      <td>0.527047</td>\n",
       "      <td>0.518610</td>\n",
       "      <td>0.528002</td>\n",
       "      <td>ZTS</td>\n",
       "    </tr>\n",
       "    <tr>\n",
       "      <th>605214</th>\n",
       "      <td>2022-12-12</td>\n",
       "      <td>0.523269</td>\n",
       "      <td>0.522101</td>\n",
       "      <td>0.000000</td>\n",
       "      <td>0.517582</td>\n",
       "      <td>0.519818</td>\n",
       "      <td>0.529210</td>\n",
       "      <td>ZTS</td>\n",
       "    </tr>\n",
       "  </tbody>\n",
       "</table>\n",
       "<p>605215 rows × 8 columns</p>\n",
       "</div>"
      ],
      "text/plain": [
       "              Date       Low      Open    Volume      High     Close  \\\n",
       "0       2017-01-03  0.000000  0.000000  0.108231  0.000000  0.000000   \n",
       "1       2017-01-04  0.008217  0.007499  0.113930  0.004743  0.004594   \n",
       "2       2017-01-05  0.004717  0.008399  0.091776  0.002409  0.000377   \n",
       "3       2017-01-06  0.006239  0.005249  0.188017  0.009938  0.011296   \n",
       "4       2017-01-09  0.016511  0.015598  0.166526  0.013627  0.012426   \n",
       "...            ...       ...       ...       ...       ...       ...   \n",
       "605210  2022-12-06  0.518709  0.522872  0.132240  0.522823  0.516862   \n",
       "605211  2022-12-07  0.504664  0.516396  0.170338  0.514121  0.502468   \n",
       "605212  2022-12-08  0.503731  0.503906  0.156301  0.516971  0.520101   \n",
       "605213  2022-12-09  0.522077  0.521433  0.236376  0.527047  0.518610   \n",
       "605214  2022-12-12  0.523269  0.522101  0.000000  0.517582  0.519818   \n",
       "\n",
       "        Adjusted Close Stock Name  \n",
       "0             0.000000          A  \n",
       "1             0.004368          A  \n",
       "2             0.000358          A  \n",
       "3             0.010740          A  \n",
       "4             0.011814          A  \n",
       "...                ...        ...  \n",
       "605210        0.526255        ZTS  \n",
       "605211        0.511865        ZTS  \n",
       "605212        0.529492        ZTS  \n",
       "605213        0.528002        ZTS  \n",
       "605214        0.529210        ZTS  \n",
       "\n",
       "[605215 rows x 8 columns]"
      ]
     },
     "execution_count": 19,
     "metadata": {},
     "output_type": "execute_result"
    }
   ],
   "source": [
    "stock_scaled, stock_scalar = scale_stock_data(stock, constant.columns_to_scale)\n",
    "stock_scaled"
   ]
  },
  {
   "cell_type": "code",
   "execution_count": 20,
   "metadata": {
    "executionInfo": {
     "elapsed": 542,
     "status": "ok",
     "timestamp": 1733628917345,
     "user": {
      "displayName": "Kai Alcayde",
      "userId": "09994846452498228592"
     },
     "user_tz": 480
    },
    "id": "K5KIza2ghIUs"
   },
   "outputs": [],
   "source": [
    "processed_df = restructure_date_information(stock_scaled)"
   ]
  },
  {
   "cell_type": "code",
   "execution_count": 21,
   "metadata": {
    "colab": {
     "base_uri": "https://localhost:8080/",
     "height": 278
    },
    "collapsed": true,
    "executionInfo": {
     "elapsed": 6,
     "status": "ok",
     "timestamp": 1733628917345,
     "user": {
      "displayName": "Kai Alcayde",
      "userId": "09994846452498228592"
     },
     "user_tz": 480
    },
    "id": "VN84d3bxt6EB",
    "outputId": "e9b0b83a-f637-4e47-e5d9-e4f19aa36c86"
   },
   "outputs": [
    {
     "data": {
      "text/html": [
       "<div>\n",
       "<style scoped>\n",
       "    .dataframe tbody tr th:only-of-type {\n",
       "        vertical-align: middle;\n",
       "    }\n",
       "\n",
       "    .dataframe tbody tr th {\n",
       "        vertical-align: top;\n",
       "    }\n",
       "\n",
       "    .dataframe thead th {\n",
       "        text-align: right;\n",
       "    }\n",
       "</style>\n",
       "<table border=\"1\" class=\"dataframe\">\n",
       "  <thead>\n",
       "    <tr style=\"text-align: right;\">\n",
       "      <th></th>\n",
       "      <th>Low</th>\n",
       "      <th>Open</th>\n",
       "      <th>Volume</th>\n",
       "      <th>High</th>\n",
       "      <th>Close</th>\n",
       "      <th>Adjusted Close</th>\n",
       "      <th>Stock Name</th>\n",
       "      <th>Month</th>\n",
       "      <th>Day</th>\n",
       "      <th>Day of The Week</th>\n",
       "      <th>Week of The Year</th>\n",
       "    </tr>\n",
       "  </thead>\n",
       "  <tbody>\n",
       "    <tr>\n",
       "      <th>0</th>\n",
       "      <td>0.000000</td>\n",
       "      <td>0.000000</td>\n",
       "      <td>0.108231</td>\n",
       "      <td>0.000000</td>\n",
       "      <td>0.000000</td>\n",
       "      <td>0.000000</td>\n",
       "      <td>A</td>\n",
       "      <td>0</td>\n",
       "      <td>2</td>\n",
       "      <td>1</td>\n",
       "      <td>0</td>\n",
       "    </tr>\n",
       "    <tr>\n",
       "      <th>1</th>\n",
       "      <td>0.008217</td>\n",
       "      <td>0.007499</td>\n",
       "      <td>0.113930</td>\n",
       "      <td>0.004743</td>\n",
       "      <td>0.004594</td>\n",
       "      <td>0.004368</td>\n",
       "      <td>A</td>\n",
       "      <td>0</td>\n",
       "      <td>3</td>\n",
       "      <td>2</td>\n",
       "      <td>0</td>\n",
       "    </tr>\n",
       "    <tr>\n",
       "      <th>2</th>\n",
       "      <td>0.004717</td>\n",
       "      <td>0.008399</td>\n",
       "      <td>0.091776</td>\n",
       "      <td>0.002409</td>\n",
       "      <td>0.000377</td>\n",
       "      <td>0.000358</td>\n",
       "      <td>A</td>\n",
       "      <td>0</td>\n",
       "      <td>4</td>\n",
       "      <td>3</td>\n",
       "      <td>0</td>\n",
       "    </tr>\n",
       "    <tr>\n",
       "      <th>3</th>\n",
       "      <td>0.006239</td>\n",
       "      <td>0.005249</td>\n",
       "      <td>0.188017</td>\n",
       "      <td>0.009938</td>\n",
       "      <td>0.011296</td>\n",
       "      <td>0.010740</td>\n",
       "      <td>A</td>\n",
       "      <td>0</td>\n",
       "      <td>5</td>\n",
       "      <td>4</td>\n",
       "      <td>0</td>\n",
       "    </tr>\n",
       "    <tr>\n",
       "      <th>4</th>\n",
       "      <td>0.016511</td>\n",
       "      <td>0.015598</td>\n",
       "      <td>0.166526</td>\n",
       "      <td>0.013627</td>\n",
       "      <td>0.012426</td>\n",
       "      <td>0.011814</td>\n",
       "      <td>A</td>\n",
       "      <td>0</td>\n",
       "      <td>8</td>\n",
       "      <td>0</td>\n",
       "      <td>1</td>\n",
       "    </tr>\n",
       "  </tbody>\n",
       "</table>\n",
       "</div>"
      ],
      "text/plain": [
       "        Low      Open    Volume      High     Close  Adjusted Close  \\\n",
       "0  0.000000  0.000000  0.108231  0.000000  0.000000        0.000000   \n",
       "1  0.008217  0.007499  0.113930  0.004743  0.004594        0.004368   \n",
       "2  0.004717  0.008399  0.091776  0.002409  0.000377        0.000358   \n",
       "3  0.006239  0.005249  0.188017  0.009938  0.011296        0.010740   \n",
       "4  0.016511  0.015598  0.166526  0.013627  0.012426        0.011814   \n",
       "\n",
       "  Stock Name  Month  Day  Day of The Week  Week of The Year  \n",
       "0          A      0    2                1                 0  \n",
       "1          A      0    3                2                 0  \n",
       "2          A      0    4                3                 0  \n",
       "3          A      0    5                4                 0  \n",
       "4          A      0    8                0                 1  "
      ]
     },
     "execution_count": 21,
     "metadata": {},
     "output_type": "execute_result"
    }
   ],
   "source": [
    "processed_df.head()"
   ]
  },
  {
   "cell_type": "code",
   "execution_count": 22,
   "metadata": {
    "executionInfo": {
     "elapsed": 5,
     "status": "ok",
     "timestamp": 1733628917345,
     "user": {
      "displayName": "Kai Alcayde",
      "userId": "09994846452498228592"
     },
     "user_tz": 480
    },
    "id": "X5jzyCdC12br"
   },
   "outputs": [],
   "source": [
    "# static now"
   ]
  },
  {
   "cell_type": "code",
   "execution_count": 23,
   "metadata": {
    "executionInfo": {
     "elapsed": 448,
     "status": "ok",
     "timestamp": 1733628917789,
     "user": {
      "displayName": "Kai Alcayde",
      "userId": "09994846452498228592"
     },
     "user_tz": 480
    },
    "id": "lX4_idQlA7tG"
   },
   "outputs": [],
   "source": [
    "# static.to_csv(f'dataset/sp500_{year}_static.csv')\n",
    "static = pd.read_csv(f\"dataset/sp500_{year}_static.csv\", index_col=0)\n",
    "static_df = one_label_scale_static_df(static,constant.static_variables)"
   ]
  },
  {
   "cell_type": "markdown",
   "metadata": {
    "id": "EhaNTFzhA8KJ"
   },
   "source": [
    "\n",
    "\n",
    "---\n",
    "\n",
    "\\\n",
    "\n",
    "---\n",
    "\n",
    "\n",
    "\n",
    "---\n",
    "\n"
   ]
  },
  {
   "cell_type": "code",
   "execution_count": 24,
   "metadata": {
    "executionInfo": {
     "elapsed": 3,
     "status": "ok",
     "timestamp": 1733628917789,
     "user": {
      "displayName": "Kai Alcayde",
      "userId": "09994846452498228592"
     },
     "user_tz": 480
    },
    "id": "DdGygqW0iB3o"
   },
   "outputs": [],
   "source": [
    "history_cat_feature_num_list, history_cont_feature_num = get_feature_length(processed_df, constant.feature_variables)\n",
    "static_cat_feature_num_list , static_cont_feature_num  = get_feature_length(static, constant.static_variables)\n",
    "future_cat_feature_num_list , _                        = get_feature_length(processed_df, constant.future_feature)\n",
    "_                           , prediction_con           = get_feature_length(processed_df, constant.prediction_feature)"
   ]
  },
  {
   "cell_type": "code",
   "execution_count": 25,
   "metadata": {
    "colab": {
     "base_uri": "https://localhost:8080/"
    },
    "executionInfo": {
     "elapsed": 241,
     "status": "ok",
     "timestamp": 1733628918027,
     "user": {
      "displayName": "Kai Alcayde",
      "userId": "09994846452498228592"
     },
     "user_tz": 480
    },
    "id": "MVao7xRGiFFW",
    "outputId": "9cf51ec7-8497-4cbe-d7e4-5c9c0354b54c"
   },
   "outputs": [
    {
     "data": {
      "text/plain": [
       "([12, 31, 5, 53], 4)"
      ]
     },
     "execution_count": 25,
     "metadata": {},
     "output_type": "execute_result"
    }
   ],
   "source": [
    "history_cat_feature_num_list, history_cont_feature_num"
   ]
  },
  {
   "cell_type": "code",
   "execution_count": 26,
   "metadata": {
    "executionInfo": {
     "elapsed": 4,
     "status": "ok",
     "timestamp": 1733628918027,
     "user": {
      "displayName": "Kai Alcayde",
      "userId": "09994846452498228592"
     },
     "user_tz": 480
    },
    "id": "Lrx2tZ2hiHJK"
   },
   "outputs": [],
   "source": [
    "history_length = 90\n",
    "prediction_length = 15"
   ]
  },
  {
   "cell_type": "code",
   "execution_count": 27,
   "metadata": {
    "executionInfo": {
     "elapsed": 504,
     "status": "ok",
     "timestamp": 1733629173658,
     "user": {
      "displayName": "Kai Alcayde",
      "userId": "09994846452498228592"
     },
     "user_tz": 480
    },
    "id": "0mwSQFy7_anI"
   },
   "outputs": [],
   "source": [
    "# use this if want to reset ViT Dataset\n",
    "# del stock_ViT_dataset"
   ]
  },
  {
   "cell_type": "code",
   "execution_count": 28,
   "metadata": {
    "executionInfo": {
     "elapsed": 4044,
     "status": "ok",
     "timestamp": 1733629182396,
     "user": {
      "displayName": "Kai Alcayde",
      "userId": "09994846452498228592"
     },
     "user_tz": 480
    },
    "id": "FS3ITsfaiOFH"
   },
   "outputs": [],
   "source": [
    "stock_ViT_dataset = ViT_Dataset(stock_df= processed_df ,\n",
    "                        static_df=static_df,\n",
    "                        constant_variable=constant,\n",
    "                        history_length= history_length,\n",
    "                        prediction_length= prediction_length,\n",
    "                        device = device)"
   ]
  },
  {
   "cell_type": "markdown",
   "metadata": {
    "id": "o0Fc94BnDbOM"
   },
   "source": [
    "\n",
    "\n",
    "---\n",
    "\n",
    "Training\n",
    "\n",
    "\n",
    "\n",
    "---\n",
    "\n"
   ]
  },
  {
   "cell_type": "code",
   "execution_count": 29,
   "metadata": {
    "executionInfo": {
     "elapsed": 5,
     "status": "ok",
     "timestamp": 1733629182397,
     "user": {
      "displayName": "Kai Alcayde",
      "userId": "09994846452498228592"
     },
     "user_tz": 480
    },
    "id": "-p67fn0cDgGj"
   },
   "outputs": [],
   "source": [
    "batch_size = 128"
   ]
  },
  {
   "cell_type": "code",
   "execution_count": 30,
   "metadata": {
    "executionInfo": {
     "elapsed": 4,
     "status": "ok",
     "timestamp": 1733629182397,
     "user": {
      "displayName": "Kai Alcayde",
      "userId": "09994846452498228592"
     },
     "user_tz": 480
    },
    "id": "6YcuyivgkgqQ"
   },
   "outputs": [],
   "source": [
    "train_size = int(0.8 * stock_ViT_dataset.__len__())\n",
    "test_size = len(stock_ViT_dataset) - train_size"
   ]
  },
  {
   "cell_type": "code",
   "execution_count": 31,
   "metadata": {
    "executionInfo": {
     "elapsed": 148,
     "status": "ok",
     "timestamp": 1733629182541,
     "user": {
      "displayName": "Kai Alcayde",
      "userId": "09994846452498228592"
     },
     "user_tz": 480
    },
    "id": "c7brcykbDATs"
   },
   "outputs": [],
   "source": [
    "train_dataset, test_dataset = random_split(stock_ViT_dataset, [train_size, test_size])"
   ]
  },
  {
   "cell_type": "code",
   "execution_count": 32,
   "metadata": {
    "executionInfo": {
     "elapsed": 4,
     "status": "ok",
     "timestamp": 1733629182542,
     "user": {
      "displayName": "Kai Alcayde",
      "userId": "09994846452498228592"
     },
     "user_tz": 480
    },
    "id": "vF8Np-3VkfzQ"
   },
   "outputs": [],
   "source": [
    "train_loader = DataLoader(train_dataset, batch_size=batch_size,shuffle=True)\n",
    "test_loader = DataLoader(test_dataset, batch_size=batch_size,shuffle=True)"
   ]
  },
  {
   "cell_type": "code",
   "execution_count": null,
   "metadata": {
    "colab": {
     "base_uri": "https://localhost:8080/",
     "height": 478
    },
    "executionInfo": {
     "elapsed": 259,
     "status": "error",
     "timestamp": 1733629182798,
     "user": {
      "displayName": "Kai Alcayde",
      "userId": "09994846452498228592"
     },
     "user_tz": 480
    },
    "id": "V8hGyW2wPz6P",
    "outputId": "ad249048-23d0-4f79-e536-0b5290c0339e"
   },
   "outputs": [
    {
     "name": "stdout",
     "output_type": "stream",
     "text": [
      "cuda:0\n"
     ]
    }
   ],
   "source": [
    "count =0\n",
    "for static_cont_input, static_cat_input,history_cont_input, history_cat_input, future_input, prediction, image_tensor, prediction_classification in train_loader:\n",
    "    break\n",
    "print(image_tensor.device)"
   ]
  },
  {
   "cell_type": "code",
   "execution_count": 34,
   "metadata": {},
   "outputs": [
    {
     "data": {
      "text/plain": [
       "torch.Size([128, 1, 48, 48])"
      ]
     },
     "execution_count": 34,
     "metadata": {},
     "output_type": "execute_result"
    }
   ],
   "source": [
    "image_tensor.size()"
   ]
  },
  {
   "cell_type": "code",
   "execution_count": null,
   "metadata": {
    "executionInfo": {
     "elapsed": 8,
     "status": "aborted",
     "timestamp": 1733629182799,
     "user": {
      "displayName": "Kai Alcayde",
      "userId": "09994846452498228592"
     },
     "user_tz": 480
    },
    "id": "4MVTcYUOJvln"
   },
   "outputs": [],
   "source": [
    "# training\n",
    "\n",
    "import torch.optim as optim\n",
    "# Call the model with the patches_tensor\n",
    "model = ViT_Model(image_size = 48, patch_size=8, embedding_dim=256, num_heads=8, num_classes=2, num_layers=6, mlp_dim = 512, embedding_dropout = 0.1 )\n",
    "model.to(device)\n",
    "# loss function\n",
    "loss_fn = nn.BCELoss().to(device)  # binary cross-entropy loss function\n",
    "optimizer = optim.Adam(model.parameters(), lr=0.001)  # optimizer\n"
   ]
  },
  {
   "cell_type": "code",
   "execution_count": null,
   "metadata": {
    "executionInfo": {
     "elapsed": 9,
     "status": "aborted",
     "timestamp": 1733629182799,
     "user": {
      "displayName": "Kai Alcayde",
      "userId": "09994846452498228592"
     },
     "user_tz": 480
    },
    "id": "xCVUVqNRPx8Y"
   },
   "outputs": [],
   "source": [
    "model.train()\n",
    "num_epochs = 10\n",
    "# training loop\n",
    "for epoch in range(num_epochs):\n",
    "    model.train()\n",
    "    running_loss = 0.0\n",
    "    for batch in train_loader:\n",
    "\n",
    "      # this is where I will use patches_tensor and prediction_classification from each batch\n",
    "      static_cont_input, static_cat_input, history_cont_input, history_cat_input, future_input, prediction, patches_tensor, prediction_classification = batch\n",
    "      # forward pass\n",
    "      outputs = model(patches_tensor)  # (batch_size, 1)\n",
    "      loss = loss_fn(outputs, prediction_classification) # loss\n",
    "\n",
    "      # backprop\n",
    "      optimizer.zero_grad()\n",
    "      loss.backward()\n",
    "      optimizer.step()\n",
    "\n",
    "      running_loss += loss.item()\n",
    "\n",
    "    # avg epoch loss\n",
    "    print(f\"Epoch {epoch+1}/{num_epochs}, Loss: {running_loss / len(train_loader)}\")"
   ]
  },
  {
   "cell_type": "markdown",
   "metadata": {
    "id": "tNOpfy-OKXWB"
   },
   "source": [
    "\n",
    "\n",
    "---\n",
    "Prediction\n",
    "\n",
    "\n",
    "---\n",
    "\n",
    "\n"
   ]
  },
  {
   "cell_type": "code",
   "execution_count": null,
   "metadata": {
    "executionInfo": {
     "elapsed": 9,
     "status": "aborted",
     "timestamp": 1733629182800,
     "user": {
      "displayName": "Kai Alcayde",
      "userId": "09994846452498228592"
     },
     "user_tz": 480
    },
    "id": "ZsGJIAXOKPwS"
   },
   "outputs": [],
   "source": [
    "# model prediction\n",
    "\n",
    "model.eval()  # Set the model to evaluation mode\n",
    "with torch.no_grad():\n",
    "    # Get a sample from the dataset\n",
    "    sample = ViT_Dataset[0]  # Assuming this gets one sample\n",
    "\n",
    "    # Extract the input patches\n",
    "    patches_tensor = sample[6].unsqueeze(0)  # Add batch dimension\n",
    "\n",
    "    # Get the prediction (probability of class 1)\n",
    "    prediction_prob = model(patches_tensor)\n",
    "\n",
    "    # Convert probability to class (0 or 1)\n",
    "    predicted_class = (prediction_prob > 0.5).int()\n",
    "\n",
    "    print(\"Predicted Class:\", predicted_class.item())  # Output: 0 or 1\n",
    "\n"
   ]
  },
  {
   "cell_type": "markdown",
   "metadata": {
    "id": "lTlV8ajUgypd"
   },
   "source": [
    "\n",
    "\n",
    "---\n",
    "\n",
    "\\\n",
    "\n",
    "Creating Model Instance\n",
    "\n",
    "\\\n",
    "\n",
    "---"
   ]
  },
  {
   "cell_type": "code",
   "execution_count": null,
   "metadata": {
    "executionInfo": {
     "elapsed": 9,
     "status": "aborted",
     "timestamp": 1733629182800,
     "user": {
      "displayName": "Kai Alcayde",
      "userId": "09994846452498228592"
     },
     "user_tz": 480
    },
    "id": "BYGQFmFHD-yi"
   },
   "outputs": [],
   "source": []
  },
  {
   "cell_type": "code",
   "execution_count": null,
   "metadata": {
    "executionInfo": {
     "elapsed": 8,
     "status": "aborted",
     "timestamp": 1733629182800,
     "user": {
      "displayName": "Kai Alcayde",
      "userId": "09994846452498228592"
     },
     "user_tz": 480
    },
    "id": "9aj6dH9ol7U_"
   },
   "outputs": [],
   "source": [
    "# pretraining?"
   ]
  },
  {
   "cell_type": "code",
   "execution_count": null,
   "metadata": {},
   "outputs": [],
   "source": []
  },
  {
   "cell_type": "code",
   "execution_count": 1,
   "metadata": {},
   "outputs": [
    {
     "ename": "",
     "evalue": "",
     "output_type": "error",
     "traceback": [
      "\u001b[1;31mThe Kernel crashed while executing code in the current cell or a previous cell. \n",
      "\u001b[1;31mPlease review the code in the cell(s) to identify a possible cause of the failure. \n",
      "\u001b[1;31mClick <a href='https://aka.ms/vscodeJupyterKernelCrash'>here</a> for more info. \n",
      "\u001b[1;31mView Jupyter <a href='command:jupyter.viewOutput'>log</a> for further details."
     ]
    }
   ],
   "source": [
    "import matplotlib.pyplot as plt\n",
    "from PIL import Image\n",
    "import numpy as np\n",
    "import torch\n",
    "import torch.nn.functional as F\n",
    "\n",
    "# Simulate stock data (replace this with your actual stock data)\n",
    "stock_data = np.random.rand(100)  # Example: 100 stock price points\n",
    "\n",
    "# Step 1: Generate a plot\n",
    "fig, ax = plt.subplots(figsize=(4, 4))  # Adjust figsize for desired image dimensions\n",
    "ax.plot(stock_data, color='blue')  # Example: Line plot for stock data\n",
    "ax.axis('off')  # Remove axes for cleaner image\n",
    "\n",
    "# Step 2: Convert the plot to an image in-memory\n",
    "fig.canvas.draw()\n",
    "image = np.frombuffer(fig.canvas.tostring_rgb(), dtype=np.uint8)\n",
    "image = image.reshape(fig.canvas.get_width_height()[::-1] + (3,))  # H x W x C format\n",
    "\n",
    "plt.close(fig)  # Close the figure to free resources\n",
    "\n",
    "# Step 3: Convert to PyTorch tensor and normalize\n",
    "image_tensor = torch.tensor(image, dtype=torch.float32).permute(2, 0, 1) / 255.0  # C x H x W\n",
    "\n",
    "# Step 4: Ensure dimensions are divisible by patch size\n",
    "patch_size = 4\n",
    "C, H, W = image_tensor.shape\n",
    "H_padded = (H + patch_size - 1) // patch_size * patch_size  # Pad height to nearest multiple\n",
    "W_padded = (W + patch_size - 1) // patch_size * patch_size  # Pad width to nearest multiple\n",
    "image_tensor = torch.nn.functional.pad(image_tensor, (0, W_padded - W, 0, H_padded - H))\n",
    "\n",
    "# Step 5: Split into patches\n",
    "image_tensor = image_tensor.unsqueeze(0)  # Add batch dimension\n",
    "patches = F.unfold(image_tensor, kernel_size=patch_size, stride=patch_size)\n",
    "patches = patches.transpose(1, 2).reshape(-1, C, patch_size, patch_size)\n",
    "\n",
    "# Output: Patches ready for ViT\n",
    "print(f\"Patches shape: {patches.shape}\")  # (num_patches, C, patch_size, patch_size)\n"
   ]
  },
  {
   "cell_type": "code",
   "execution_count": null,
   "metadata": {
    "executionInfo": {
     "elapsed": 8,
     "status": "aborted",
     "timestamp": 1733629182800,
     "user": {
      "displayName": "Kai Alcayde",
      "userId": "09994846452498228592"
     },
     "user_tz": 480
    },
    "id": "mdYD7FiXBqNl"
   },
   "outputs": [],
   "source": [
    "hidden_size = 128\n",
    "batch_size = 128\n",
    "dropout = .2\n",
    "num_head = 4\n",
    "lr= 0.0001\n",
    "momentum=0.9\n",
    "num_epochs = 10\n",
    "max_grad_norm = 1\n",
    "split_ratio = 0.8"
   ]
  },
  {
   "cell_type": "code",
   "execution_count": null,
   "metadata": {
    "executionInfo": {
     "elapsed": 8,
     "status": "aborted",
     "timestamp": 1733629182800,
     "user": {
      "displayName": "Kai Alcayde",
      "userId": "09994846452498228592"
     },
     "user_tz": 480
    },
    "id": "0uAaqTN9a8sa"
   },
   "outputs": [],
   "source": [
    "model = ViT(\n",
    "            device = device)\n",
    "model.to(device)"
   ]
  },
  {
   "cell_type": "markdown",
   "metadata": {
    "id": "HJF3xxk0eLpO"
   },
   "source": [
    "ViT model extracts features"
   ]
  },
  {
   "cell_type": "code",
   "execution_count": null,
   "metadata": {
    "executionInfo": {
     "elapsed": 8,
     "status": "aborted",
     "timestamp": 1733629182800,
     "user": {
      "displayName": "Kai Alcayde",
      "userId": "09994846452498228592"
     },
     "user_tz": 480
    },
    "id": "0qOGbYrJAceD"
   },
   "outputs": [],
   "source": []
  }
 ],
 "metadata": {
  "accelerator": "GPU",
  "colab": {
   "authorship_tag": "ABX9TyO/PFE1zrzJIzxjEpcPmO58",
   "gpuType": "L4",
   "machine_shape": "hm",
   "mount_file_id": "1D5AvRipre0u5WOySC0vAa0xFv1Fz653t",
   "provenance": []
  },
  "kernelspec": {
   "display_name": "DL-hw1",
   "language": "python",
   "name": "python3"
  },
  "language_info": {
   "codemirror_mode": {
    "name": "ipython",
    "version": 3
   },
   "file_extension": ".py",
   "mimetype": "text/x-python",
   "name": "python",
   "nbconvert_exporter": "python",
   "pygments_lexer": "ipython3",
   "version": "3.11.7"
  }
 },
 "nbformat": 4,
 "nbformat_minor": 0
}
