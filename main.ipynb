{
 "cells": [
  {
   "cell_type": "code",
   "execution_count": 13,
   "metadata": {},
   "outputs": [
    {
     "name": "stdout",
     "output_type": "stream",
     "text": [
      "The autoreload extension is already loaded. To reload it, use:\n",
      "  %reload_ext autoreload\n"
     ]
    }
   ],
   "source": [
    "%load_ext autoreload\n",
    "%autoreload 2"
   ]
  },
  {
   "cell_type": "code",
   "execution_count": 14,
   "metadata": {},
   "outputs": [],
   "source": [
    "#!pip3 install torch torchvision torchaudio --index-url https://download.pytorch.org/whl/cu118"
   ]
  },
  {
   "cell_type": "code",
   "execution_count": 15,
   "metadata": {},
   "outputs": [],
   "source": [
    "#pip install -r requirements.txt"
   ]
  },
  {
   "cell_type": "code",
   "execution_count": 16,
   "metadata": {},
   "outputs": [],
   "source": [
    "import torch"
   ]
  },
  {
   "cell_type": "code",
   "execution_count": 17,
   "metadata": {},
   "outputs": [
    {
     "data": {
      "text/plain": [
       "True"
      ]
     },
     "execution_count": 17,
     "metadata": {},
     "output_type": "execute_result"
    }
   ],
   "source": [
    "torch.cuda.is_available()"
   ]
  },
  {
   "cell_type": "markdown",
   "metadata": {},
   "source": []
  },
  {
   "cell_type": "code",
   "execution_count": null,
   "metadata": {},
   "outputs": [],
   "source": [
    "from data_util import get_data_from_kaggle, sentiment_analysis , aggregate_tweet, restructure_date_information, get_static_df, one_label_scale_static_df, scale_stock_data\n",
    "from constant import Constant\n",
    "import pandas as pd\n",
    "from torch import optim\n",
    "from TFT import TFT_embedding, TFT, QuantilesLoss"
   ]
  },
  {
   "cell_type": "code",
   "execution_count": 19,
   "metadata": {},
   "outputs": [
    {
     "data": {
      "text/plain": [
       "TFT.tft.TFT"
      ]
     },
     "execution_count": 19,
     "metadata": {},
     "output_type": "execute_result"
    }
   ],
   "source": [
    "TFT"
   ]
  },
  {
   "cell_type": "code",
   "execution_count": 20,
   "metadata": {},
   "outputs": [
    {
     "data": {
      "text/plain": [
       "<constant.Constant at 0x2b4310f4e10>"
      ]
     },
     "execution_count": 20,
     "metadata": {},
     "output_type": "execute_result"
    }
   ],
   "source": [
    "constant = Constant()\n",
    "constant"
   ]
  },
  {
   "cell_type": "code",
   "execution_count": 21,
   "metadata": {},
   "outputs": [],
   "source": [
    "stock, tweet = get_data_from_kaggle()"
   ]
  },
  {
   "cell_type": "code",
   "execution_count": 22,
   "metadata": {},
   "outputs": [],
   "source": [
    "tweet = pd.read_csv('processed.csv')\n",
    "#tweet"
   ]
  },
  {
   "cell_type": "code",
   "execution_count": 23,
   "metadata": {},
   "outputs": [
    {
     "data": {
      "text/html": [
       "<div>\n",
       "<style scoped>\n",
       "    .dataframe tbody tr th:only-of-type {\n",
       "        vertical-align: middle;\n",
       "    }\n",
       "\n",
       "    .dataframe tbody tr th {\n",
       "        vertical-align: top;\n",
       "    }\n",
       "\n",
       "    .dataframe thead th {\n",
       "        text-align: right;\n",
       "    }\n",
       "</style>\n",
       "<table border=\"1\" class=\"dataframe\">\n",
       "  <thead>\n",
       "    <tr style=\"text-align: right;\">\n",
       "      <th></th>\n",
       "      <th>Stock Name</th>\n",
       "      <th>Date</th>\n",
       "      <th>Positive_Avg</th>\n",
       "      <th>Neutral_Avg</th>\n",
       "      <th>Negative_Avg</th>\n",
       "      <th>Positive_Count</th>\n",
       "      <th>Neutral_Count</th>\n",
       "      <th>Negative_Count</th>\n",
       "    </tr>\n",
       "  </thead>\n",
       "  <tbody>\n",
       "    <tr>\n",
       "      <th>0</th>\n",
       "      <td>AAPL</td>\n",
       "      <td>2021-09-30</td>\n",
       "      <td>0.322527</td>\n",
       "      <td>0.465190</td>\n",
       "      <td>0.212283</td>\n",
       "      <td>3</td>\n",
       "      <td>4</td>\n",
       "      <td>0</td>\n",
       "    </tr>\n",
       "    <tr>\n",
       "      <th>1</th>\n",
       "      <td>AAPL</td>\n",
       "      <td>2021-10-01</td>\n",
       "      <td>0.063409</td>\n",
       "      <td>0.574801</td>\n",
       "      <td>0.361790</td>\n",
       "      <td>0</td>\n",
       "      <td>8</td>\n",
       "      <td>3</td>\n",
       "    </tr>\n",
       "    <tr>\n",
       "      <th>2</th>\n",
       "      <td>AAPL</td>\n",
       "      <td>2021-10-02</td>\n",
       "      <td>0.053914</td>\n",
       "      <td>0.569441</td>\n",
       "      <td>0.376645</td>\n",
       "      <td>0</td>\n",
       "      <td>2</td>\n",
       "      <td>2</td>\n",
       "    </tr>\n",
       "    <tr>\n",
       "      <th>3</th>\n",
       "      <td>AAPL</td>\n",
       "      <td>2021-10-03</td>\n",
       "      <td>0.365725</td>\n",
       "      <td>0.546062</td>\n",
       "      <td>0.088213</td>\n",
       "      <td>0</td>\n",
       "      <td>1</td>\n",
       "      <td>0</td>\n",
       "    </tr>\n",
       "    <tr>\n",
       "      <th>4</th>\n",
       "      <td>AAPL</td>\n",
       "      <td>2021-10-04</td>\n",
       "      <td>0.082445</td>\n",
       "      <td>0.740438</td>\n",
       "      <td>0.177116</td>\n",
       "      <td>0</td>\n",
       "      <td>10</td>\n",
       "      <td>0</td>\n",
       "    </tr>\n",
       "    <tr>\n",
       "      <th>...</th>\n",
       "      <td>...</td>\n",
       "      <td>...</td>\n",
       "      <td>...</td>\n",
       "      <td>...</td>\n",
       "      <td>...</td>\n",
       "      <td>...</td>\n",
       "      <td>...</td>\n",
       "      <td>...</td>\n",
       "    </tr>\n",
       "    <tr>\n",
       "      <th>5905</th>\n",
       "      <td>ZS</td>\n",
       "      <td>2022-09-18</td>\n",
       "      <td>0.002347</td>\n",
       "      <td>0.195517</td>\n",
       "      <td>0.802136</td>\n",
       "      <td>0</td>\n",
       "      <td>0</td>\n",
       "      <td>1</td>\n",
       "    </tr>\n",
       "    <tr>\n",
       "      <th>5906</th>\n",
       "      <td>ZS</td>\n",
       "      <td>2022-09-21</td>\n",
       "      <td>0.025520</td>\n",
       "      <td>0.272998</td>\n",
       "      <td>0.701482</td>\n",
       "      <td>0</td>\n",
       "      <td>0</td>\n",
       "      <td>1</td>\n",
       "    </tr>\n",
       "    <tr>\n",
       "      <th>5907</th>\n",
       "      <td>ZS</td>\n",
       "      <td>2022-09-27</td>\n",
       "      <td>0.060069</td>\n",
       "      <td>0.497830</td>\n",
       "      <td>0.442101</td>\n",
       "      <td>0</td>\n",
       "      <td>1</td>\n",
       "      <td>0</td>\n",
       "    </tr>\n",
       "    <tr>\n",
       "      <th>5908</th>\n",
       "      <td>ZS</td>\n",
       "      <td>2022-09-28</td>\n",
       "      <td>0.129386</td>\n",
       "      <td>0.716569</td>\n",
       "      <td>0.154045</td>\n",
       "      <td>0</td>\n",
       "      <td>1</td>\n",
       "      <td>0</td>\n",
       "    </tr>\n",
       "    <tr>\n",
       "      <th>5909</th>\n",
       "      <td>ZS</td>\n",
       "      <td>2022-09-29</td>\n",
       "      <td>0.004101</td>\n",
       "      <td>0.264248</td>\n",
       "      <td>0.731651</td>\n",
       "      <td>0</td>\n",
       "      <td>0</td>\n",
       "      <td>1</td>\n",
       "    </tr>\n",
       "  </tbody>\n",
       "</table>\n",
       "<p>5910 rows × 8 columns</p>\n",
       "</div>"
      ],
      "text/plain": [
       "     Stock Name        Date  Positive_Avg  Neutral_Avg  Negative_Avg  \\\n",
       "0          AAPL  2021-09-30      0.322527     0.465190      0.212283   \n",
       "1          AAPL  2021-10-01      0.063409     0.574801      0.361790   \n",
       "2          AAPL  2021-10-02      0.053914     0.569441      0.376645   \n",
       "3          AAPL  2021-10-03      0.365725     0.546062      0.088213   \n",
       "4          AAPL  2021-10-04      0.082445     0.740438      0.177116   \n",
       "...         ...         ...           ...          ...           ...   \n",
       "5905         ZS  2022-09-18      0.002347     0.195517      0.802136   \n",
       "5906         ZS  2022-09-21      0.025520     0.272998      0.701482   \n",
       "5907         ZS  2022-09-27      0.060069     0.497830      0.442101   \n",
       "5908         ZS  2022-09-28      0.129386     0.716569      0.154045   \n",
       "5909         ZS  2022-09-29      0.004101     0.264248      0.731651   \n",
       "\n",
       "      Positive_Count  Neutral_Count  Negative_Count  \n",
       "0                  3              4               0  \n",
       "1                  0              8               3  \n",
       "2                  0              2               2  \n",
       "3                  0              1               0  \n",
       "4                  0             10               0  \n",
       "...              ...            ...             ...  \n",
       "5905               0              0               1  \n",
       "5906               0              0               1  \n",
       "5907               0              1               0  \n",
       "5908               0              1               0  \n",
       "5909               0              0               1  \n",
       "\n",
       "[5910 rows x 8 columns]"
      ]
     },
     "execution_count": 23,
     "metadata": {},
     "output_type": "execute_result"
    }
   ],
   "source": [
    "aggregated_tweet = aggregate_tweet(tweet)\n",
    "aggregated_tweet"
   ]
  },
  {
   "cell_type": "code",
   "execution_count": 34,
   "metadata": {},
   "outputs": [],
   "source": [
    "stock['Date'] = pd.to_datetime(stock['Date'] ).dt.date"
   ]
  },
  {
   "cell_type": "code",
   "execution_count": 36,
   "metadata": {},
   "outputs": [],
   "source": [
    "stock_scaled, stock_scalar = scale_stock_data(stock, constant.columns_to_scale)"
   ]
  },
  {
   "cell_type": "code",
   "execution_count": 41,
   "metadata": {},
   "outputs": [
    {
     "data": {
      "text/html": [
       "<div>\n",
       "<style scoped>\n",
       "    .dataframe tbody tr th:only-of-type {\n",
       "        vertical-align: middle;\n",
       "    }\n",
       "\n",
       "    .dataframe tbody tr th {\n",
       "        vertical-align: top;\n",
       "    }\n",
       "\n",
       "    .dataframe thead th {\n",
       "        text-align: right;\n",
       "    }\n",
       "</style>\n",
       "<table border=\"1\" class=\"dataframe\">\n",
       "  <thead>\n",
       "    <tr style=\"text-align: right;\">\n",
       "      <th></th>\n",
       "      <th>Date</th>\n",
       "      <th>Open</th>\n",
       "      <th>High</th>\n",
       "      <th>Low</th>\n",
       "      <th>Close</th>\n",
       "      <th>Adj Close</th>\n",
       "      <th>Volume</th>\n",
       "      <th>Stock Name</th>\n",
       "    </tr>\n",
       "  </thead>\n",
       "  <tbody>\n",
       "    <tr>\n",
       "      <th>0</th>\n",
       "      <td>2021-09-30</td>\n",
       "      <td>0.257387</td>\n",
       "      <td>0.229337</td>\n",
       "      <td>0.258924</td>\n",
       "      <td>0.244819</td>\n",
       "      <td>0.244819</td>\n",
       "      <td>0.122630</td>\n",
       "      <td>TSLA</td>\n",
       "    </tr>\n",
       "    <tr>\n",
       "      <th>1</th>\n",
       "      <td>2021-10-01</td>\n",
       "      <td>0.253128</td>\n",
       "      <td>0.215174</td>\n",
       "      <td>0.239793</td>\n",
       "      <td>0.244387</td>\n",
       "      <td>0.244387</td>\n",
       "      <td>0.104561</td>\n",
       "      <td>TSLA</td>\n",
       "    </tr>\n",
       "    <tr>\n",
       "      <th>2</th>\n",
       "      <td>2021-10-04</td>\n",
       "      <td>0.282773</td>\n",
       "      <td>0.259596</td>\n",
       "      <td>0.260802</td>\n",
       "      <td>0.254873</td>\n",
       "      <td>0.254873</td>\n",
       "      <td>0.367441</td>\n",
       "      <td>TSLA</td>\n",
       "    </tr>\n",
       "    <tr>\n",
       "      <th>3</th>\n",
       "      <td>2021-10-05</td>\n",
       "      <td>0.263610</td>\n",
       "      <td>0.243211</td>\n",
       "      <td>0.257583</td>\n",
       "      <td>0.253311</td>\n",
       "      <td>0.253311</td>\n",
       "      <td>0.131943</td>\n",
       "      <td>TSLA</td>\n",
       "    </tr>\n",
       "    <tr>\n",
       "      <th>4</th>\n",
       "      <td>2021-10-06</td>\n",
       "      <td>0.249525</td>\n",
       "      <td>0.225147</td>\n",
       "      <td>0.255939</td>\n",
       "      <td>0.256901</td>\n",
       "      <td>0.256901</td>\n",
       "      <td>0.057687</td>\n",
       "      <td>TSLA</td>\n",
       "    </tr>\n",
       "    <tr>\n",
       "      <th>...</th>\n",
       "      <td>...</td>\n",
       "      <td>...</td>\n",
       "      <td>...</td>\n",
       "      <td>...</td>\n",
       "      <td>...</td>\n",
       "      <td>...</td>\n",
       "      <td>...</td>\n",
       "      <td>...</td>\n",
       "    </tr>\n",
       "    <tr>\n",
       "      <th>6295</th>\n",
       "      <td>2022-09-23</td>\n",
       "      <td>0.012407</td>\n",
       "      <td>0.023899</td>\n",
       "      <td>0.025667</td>\n",
       "      <td>0.037305</td>\n",
       "      <td>0.037305</td>\n",
       "      <td>0.641919</td>\n",
       "      <td>XPEV</td>\n",
       "    </tr>\n",
       "    <tr>\n",
       "      <th>6296</th>\n",
       "      <td>2022-09-26</td>\n",
       "      <td>0.039747</td>\n",
       "      <td>0.045413</td>\n",
       "      <td>0.056417</td>\n",
       "      <td>0.052693</td>\n",
       "      <td>0.052693</td>\n",
       "      <td>0.631516</td>\n",
       "      <td>XPEV</td>\n",
       "    </tr>\n",
       "    <tr>\n",
       "      <th>6297</th>\n",
       "      <td>2022-09-27</td>\n",
       "      <td>0.046640</td>\n",
       "      <td>0.044725</td>\n",
       "      <td>0.043964</td>\n",
       "      <td>0.037305</td>\n",
       "      <td>0.037305</td>\n",
       "      <td>0.451202</td>\n",
       "      <td>XPEV</td>\n",
       "    </tr>\n",
       "    <tr>\n",
       "      <th>6298</th>\n",
       "      <td>2022-09-28</td>\n",
       "      <td>0.011488</td>\n",
       "      <td>0.013096</td>\n",
       "      <td>0.021347</td>\n",
       "      <td>0.028445</td>\n",
       "      <td>0.028445</td>\n",
       "      <td>0.736217</td>\n",
       "      <td>XPEV</td>\n",
       "    </tr>\n",
       "    <tr>\n",
       "      <th>6299</th>\n",
       "      <td>2022-09-29</td>\n",
       "      <td>0.000000</td>\n",
       "      <td>0.000000</td>\n",
       "      <td>0.000000</td>\n",
       "      <td>0.000000</td>\n",
       "      <td>0.000000</td>\n",
       "      <td>0.769582</td>\n",
       "      <td>XPEV</td>\n",
       "    </tr>\n",
       "  </tbody>\n",
       "</table>\n",
       "<p>6300 rows × 8 columns</p>\n",
       "</div>"
      ],
      "text/plain": [
       "            Date      Open      High       Low     Close  Adj Close    Volume  \\\n",
       "0     2021-09-30  0.257387  0.229337  0.258924  0.244819   0.244819  0.122630   \n",
       "1     2021-10-01  0.253128  0.215174  0.239793  0.244387   0.244387  0.104561   \n",
       "2     2021-10-04  0.282773  0.259596  0.260802  0.254873   0.254873  0.367441   \n",
       "3     2021-10-05  0.263610  0.243211  0.257583  0.253311   0.253311  0.131943   \n",
       "4     2021-10-06  0.249525  0.225147  0.255939  0.256901   0.256901  0.057687   \n",
       "...          ...       ...       ...       ...       ...        ...       ...   \n",
       "6295  2022-09-23  0.012407  0.023899  0.025667  0.037305   0.037305  0.641919   \n",
       "6296  2022-09-26  0.039747  0.045413  0.056417  0.052693   0.052693  0.631516   \n",
       "6297  2022-09-27  0.046640  0.044725  0.043964  0.037305   0.037305  0.451202   \n",
       "6298  2022-09-28  0.011488  0.013096  0.021347  0.028445   0.028445  0.736217   \n",
       "6299  2022-09-29  0.000000  0.000000  0.000000  0.000000   0.000000  0.769582   \n",
       "\n",
       "     Stock Name  \n",
       "0          TSLA  \n",
       "1          TSLA  \n",
       "2          TSLA  \n",
       "3          TSLA  \n",
       "4          TSLA  \n",
       "...         ...  \n",
       "6295       XPEV  \n",
       "6296       XPEV  \n",
       "6297       XPEV  \n",
       "6298       XPEV  \n",
       "6299       XPEV  \n",
       "\n",
       "[6300 rows x 8 columns]"
      ]
     },
     "execution_count": 41,
     "metadata": {},
     "output_type": "execute_result"
    }
   ],
   "source": [
    "stock_scaled"
   ]
  },
  {
   "cell_type": "code",
   "execution_count": 51,
   "metadata": {},
   "outputs": [
    {
     "data": {
      "text/plain": [
       "array(['Open', 'High', 'Low', 'Close', 'Adj Close', 'Volume'],\n",
       "      dtype=object)"
      ]
     },
     "execution_count": 51,
     "metadata": {},
     "output_type": "execute_result"
    }
   ],
   "source": [
    "stock_scalar['TSLA'].get_feature_names_out()"
   ]
  },
  {
   "cell_type": "code",
   "execution_count": 103,
   "metadata": {},
   "outputs": [],
   "source": [
    "merged_df = pd.merge(aggregated_tweet, stock_scaled, on=['Date', 'Stock Name'], how='right')\n",
    "merged_df = merged_df.fillna(0)"
   ]
  },
  {
   "cell_type": "code",
   "execution_count": 104,
   "metadata": {},
   "outputs": [],
   "source": [
    "processed_df = restructure_date_information(merged_df)\n",
    "#processed_df"
   ]
  },
  {
   "cell_type": "code",
   "execution_count": 105,
   "metadata": {},
   "outputs": [
    {
     "name": "stderr",
     "output_type": "stream",
     "text": [
      "c:\\Users\\luanl\\Documents\\DL\\TFT\\data_util.py:74: FutureWarning: Downcasting object dtype arrays on .fillna, .ffill, .bfill is deprecated and will change in a future version. Call result.infer_objects(copy=False) instead. To opt-in to the future behavior, set `pd.set_option('future.no_silent_downcasting', True)`\n",
      "  static_df.fillna(0, inplace=True)\n"
     ]
    }
   ],
   "source": [
    "static = get_static_df(processed_df,  constant.static_variables)"
   ]
  },
  {
   "cell_type": "code",
   "execution_count": 106,
   "metadata": {},
   "outputs": [
    {
     "data": {
      "text/plain": [
       "array(['Consumer Cyclical', 'United States', 2.295], dtype=object)"
      ]
     },
     "execution_count": 106,
     "metadata": {},
     "output_type": "execute_result"
    }
   ],
   "source": [
    "static[[\"sector\", \"country\", \"beta\"]].loc[\"TSLA\"].values"
   ]
  },
  {
   "cell_type": "code",
   "execution_count": 112,
   "metadata": {},
   "outputs": [],
   "source": [
    "static_df = one_label_scale_static_df(static,constant.static_variables)"
   ]
  },
  {
   "cell_type": "code",
   "execution_count": 222,
   "metadata": {},
   "outputs": [],
   "source": [
    "history_length = 60\n",
    "prediction_length = 15\n",
    "hidden_size = 128\n",
    "batch_size = 128\n",
    "dropout = .2\n",
    "num_head = 4\n",
    "lr= 0.0001\n",
    "momentum=0.9\n",
    "num_epochs = 30\n",
    "max_grad_norm = 1"
   ]
  },
  {
   "cell_type": "code",
   "execution_count": 223,
   "metadata": {},
   "outputs": [],
   "source": [
    "from data import TFT_Dataset\n",
    "from torch.utils.data import DataLoader\n",
    "tft_Dataset = TFT_Dataset(stock_df= processed_df , \n",
    "                static_df=static_df,\n",
    "                constant_variable=constant, \n",
    "                history_length= history_length, \n",
    "                prediction_length= prediction_length)"
   ]
  },
  {
   "cell_type": "code",
   "execution_count": 224,
   "metadata": {},
   "outputs": [],
   "source": [
    "loader = DataLoader(tft_Dataset, batch_size= batch_size)\n"
   ]
  },
  {
   "cell_type": "code",
   "execution_count": 225,
   "metadata": {},
   "outputs": [
    {
     "name": "stdout",
     "output_type": "stream",
     "text": [
      "35\n"
     ]
    }
   ],
   "source": [
    "count =0\n",
    "for static_cont_input, static_cat_input,history_cont_input, history_cat_input, future_input, prediction in loader:\n",
    "    count +=1\n",
    "print(count)"
   ]
  },
  {
   "cell_type": "code",
   "execution_count": 226,
   "metadata": {},
   "outputs": [],
   "source": [
    "from data_util import get_feature_length\n",
    "\n",
    "history_cat_feature_num_list, history_cont_feature_num = get_feature_length(processed_df, constant.feature_variables)\n",
    "static_cat_feature_num_list , static_cont_feature_num  = get_feature_length(static, constant.static_variables)\n",
    "future_feature_num          , _                        = get_feature_length(processed_df, constant.future_feature)\n",
    "_                           , prediction_con           = get_feature_length(processed_df, constant.prediction_feature)"
   ]
  },
  {
   "cell_type": "code",
   "execution_count": 227,
   "metadata": {},
   "outputs": [
    {
     "data": {
      "text/plain": [
       "[12, 31, 5, 52]"
      ]
     },
     "execution_count": 227,
     "metadata": {},
     "output_type": "execute_result"
    }
   ],
   "source": [
    "history_cat_feature_num_list"
   ]
  },
  {
   "cell_type": "code",
   "execution_count": 228,
   "metadata": {},
   "outputs": [
    {
     "data": {
      "text/plain": [
       "TFT(\n",
       "  (tft_embed): TFT_embedding(\n",
       "    (static_cont): Linear(in_features=7, out_features=128, bias=True)\n",
       "    (static_cat): ModuleList(\n",
       "      (0): Embedding(16, 128)\n",
       "      (1): Embedding(6, 128)\n",
       "      (2): Embedding(3, 128)\n",
       "    )\n",
       "    (history_cont): Linear(in_features=11, out_features=128, bias=True)\n",
       "    (history_cat): ModuleList(\n",
       "      (0): Embedding(12, 128)\n",
       "      (1): Embedding(31, 128)\n",
       "      (2): Embedding(5, 128)\n",
       "      (3): Embedding(52, 128)\n",
       "    )\n",
       "    (future_feature): ModuleList(\n",
       "      (0): Embedding(12, 128)\n",
       "      (1): Embedding(31, 128)\n",
       "      (2): Embedding(5, 128)\n",
       "      (3): Embedding(52, 128)\n",
       "    )\n",
       "  )\n",
       "  (cs): VariationSelection(\n",
       "    (group_GRN): GRN(\n",
       "      (linear1): Linear(in_features=512, out_features=512, bias=True)\n",
       "      (linear2): Linear(in_features=512, out_features=128, bias=True)\n",
       "      (GLU): GLU(\n",
       "        (linear4): Linear(in_features=128, out_features=512, bias=True)\n",
       "        (linear5): Linear(in_features=128, out_features=512, bias=True)\n",
       "      )\n",
       "      (droput): Dropout(p=0.0, inplace=False)\n",
       "      (layernorm): LayerNorm((512,), eps=1e-05, elementwise_affine=True)\n",
       "      (linear_out): Linear(in_features=512, out_features=4, bias=True)\n",
       "    )\n",
       "    (individual_GRN): ModuleList(\n",
       "      (0-3): 4 x GRN(\n",
       "        (linear1): Linear(in_features=128, out_features=128, bias=True)\n",
       "        (linear2): Linear(in_features=128, out_features=128, bias=True)\n",
       "        (GLU): GLU(\n",
       "          (linear4): Linear(in_features=128, out_features=128, bias=True)\n",
       "          (linear5): Linear(in_features=128, out_features=128, bias=True)\n",
       "        )\n",
       "        (droput): Dropout(p=0.0, inplace=False)\n",
       "        (layernorm): LayerNorm((128,), eps=1e-05, elementwise_affine=True)\n",
       "      )\n",
       "    )\n",
       "  )\n",
       "  (ce): VariationSelection(\n",
       "    (group_GRN): GRN(\n",
       "      (linear1): Linear(in_features=512, out_features=512, bias=True)\n",
       "      (linear2): Linear(in_features=512, out_features=128, bias=True)\n",
       "      (GLU): GLU(\n",
       "        (linear4): Linear(in_features=128, out_features=512, bias=True)\n",
       "        (linear5): Linear(in_features=128, out_features=512, bias=True)\n",
       "      )\n",
       "      (droput): Dropout(p=0.0, inplace=False)\n",
       "      (layernorm): LayerNorm((512,), eps=1e-05, elementwise_affine=True)\n",
       "      (linear_out): Linear(in_features=512, out_features=4, bias=True)\n",
       "    )\n",
       "    (individual_GRN): ModuleList(\n",
       "      (0-3): 4 x GRN(\n",
       "        (linear1): Linear(in_features=128, out_features=128, bias=True)\n",
       "        (linear2): Linear(in_features=128, out_features=128, bias=True)\n",
       "        (GLU): GLU(\n",
       "          (linear4): Linear(in_features=128, out_features=128, bias=True)\n",
       "          (linear5): Linear(in_features=128, out_features=128, bias=True)\n",
       "        )\n",
       "        (droput): Dropout(p=0.0, inplace=False)\n",
       "        (layernorm): LayerNorm((128,), eps=1e-05, elementwise_affine=True)\n",
       "      )\n",
       "    )\n",
       "  )\n",
       "  (cc): VariationSelection(\n",
       "    (group_GRN): GRN(\n",
       "      (linear1): Linear(in_features=512, out_features=512, bias=True)\n",
       "      (linear2): Linear(in_features=512, out_features=128, bias=True)\n",
       "      (GLU): GLU(\n",
       "        (linear4): Linear(in_features=128, out_features=512, bias=True)\n",
       "        (linear5): Linear(in_features=128, out_features=512, bias=True)\n",
       "      )\n",
       "      (droput): Dropout(p=0.0, inplace=False)\n",
       "      (layernorm): LayerNorm((512,), eps=1e-05, elementwise_affine=True)\n",
       "      (linear_out): Linear(in_features=512, out_features=4, bias=True)\n",
       "    )\n",
       "    (individual_GRN): ModuleList(\n",
       "      (0-3): 4 x GRN(\n",
       "        (linear1): Linear(in_features=128, out_features=128, bias=True)\n",
       "        (linear2): Linear(in_features=128, out_features=128, bias=True)\n",
       "        (GLU): GLU(\n",
       "          (linear4): Linear(in_features=128, out_features=128, bias=True)\n",
       "          (linear5): Linear(in_features=128, out_features=128, bias=True)\n",
       "        )\n",
       "        (droput): Dropout(p=0.0, inplace=False)\n",
       "        (layernorm): LayerNorm((128,), eps=1e-05, elementwise_affine=True)\n",
       "      )\n",
       "    )\n",
       "  )\n",
       "  (ch): VariationSelection(\n",
       "    (group_GRN): GRN(\n",
       "      (linear1): Linear(in_features=512, out_features=512, bias=True)\n",
       "      (linear2): Linear(in_features=512, out_features=128, bias=True)\n",
       "      (GLU): GLU(\n",
       "        (linear4): Linear(in_features=128, out_features=512, bias=True)\n",
       "        (linear5): Linear(in_features=128, out_features=512, bias=True)\n",
       "      )\n",
       "      (droput): Dropout(p=0.0, inplace=False)\n",
       "      (layernorm): LayerNorm((512,), eps=1e-05, elementwise_affine=True)\n",
       "      (linear_out): Linear(in_features=512, out_features=4, bias=True)\n",
       "    )\n",
       "    (individual_GRN): ModuleList(\n",
       "      (0-3): 4 x GRN(\n",
       "        (linear1): Linear(in_features=128, out_features=128, bias=True)\n",
       "        (linear2): Linear(in_features=128, out_features=128, bias=True)\n",
       "        (GLU): GLU(\n",
       "          (linear4): Linear(in_features=128, out_features=128, bias=True)\n",
       "          (linear5): Linear(in_features=128, out_features=128, bias=True)\n",
       "        )\n",
       "        (droput): Dropout(p=0.0, inplace=False)\n",
       "        (layernorm): LayerNorm((128,), eps=1e-05, elementwise_affine=True)\n",
       "      )\n",
       "    )\n",
       "  )\n",
       "  (history_variation): VariationSelection(\n",
       "    (group_GRN): GRN(\n",
       "      (linear1): Linear(in_features=640, out_features=640, bias=True)\n",
       "      (linear2): Linear(in_features=640, out_features=128, bias=True)\n",
       "      (GLU): GLU(\n",
       "        (linear4): Linear(in_features=128, out_features=640, bias=True)\n",
       "        (linear5): Linear(in_features=128, out_features=640, bias=True)\n",
       "      )\n",
       "      (droput): Dropout(p=0.0, inplace=False)\n",
       "      (layernorm): LayerNorm((640,), eps=1e-05, elementwise_affine=True)\n",
       "      (linear_out): Linear(in_features=640, out_features=5, bias=True)\n",
       "      (linear_conext): Linear(in_features=128, out_features=640, bias=False)\n",
       "    )\n",
       "    (individual_GRN): ModuleList(\n",
       "      (0-4): 5 x GRN(\n",
       "        (linear1): Linear(in_features=128, out_features=128, bias=True)\n",
       "        (linear2): Linear(in_features=128, out_features=128, bias=True)\n",
       "        (GLU): GLU(\n",
       "          (linear4): Linear(in_features=128, out_features=128, bias=True)\n",
       "          (linear5): Linear(in_features=128, out_features=128, bias=True)\n",
       "        )\n",
       "        (droput): Dropout(p=0.0, inplace=False)\n",
       "        (layernorm): LayerNorm((128,), eps=1e-05, elementwise_affine=True)\n",
       "      )\n",
       "    )\n",
       "  )\n",
       "  (future_variation): VariationSelection(\n",
       "    (group_GRN): GRN(\n",
       "      (linear1): Linear(in_features=512, out_features=512, bias=True)\n",
       "      (linear2): Linear(in_features=512, out_features=128, bias=True)\n",
       "      (GLU): GLU(\n",
       "        (linear4): Linear(in_features=128, out_features=512, bias=True)\n",
       "        (linear5): Linear(in_features=128, out_features=512, bias=True)\n",
       "      )\n",
       "      (droput): Dropout(p=0.0, inplace=False)\n",
       "      (layernorm): LayerNorm((512,), eps=1e-05, elementwise_affine=True)\n",
       "      (linear_out): Linear(in_features=512, out_features=4, bias=True)\n",
       "      (linear_conext): Linear(in_features=128, out_features=512, bias=False)\n",
       "    )\n",
       "    (individual_GRN): ModuleList(\n",
       "      (0-3): 4 x GRN(\n",
       "        (linear1): Linear(in_features=128, out_features=128, bias=True)\n",
       "        (linear2): Linear(in_features=128, out_features=128, bias=True)\n",
       "        (GLU): GLU(\n",
       "          (linear4): Linear(in_features=128, out_features=128, bias=True)\n",
       "          (linear5): Linear(in_features=128, out_features=128, bias=True)\n",
       "        )\n",
       "        (droput): Dropout(p=0.0, inplace=False)\n",
       "        (layernorm): LayerNorm((128,), eps=1e-05, elementwise_affine=True)\n",
       "      )\n",
       "    )\n",
       "  )\n",
       "  (gate_add_norm_history): Gate_Add_Norm(\n",
       "    (layernorm): LayerNorm((128,), eps=1e-05, elementwise_affine=True)\n",
       "    (GLU): GLU(\n",
       "      (linear4): Linear(in_features=128, out_features=128, bias=True)\n",
       "      (linear5): Linear(in_features=128, out_features=128, bias=True)\n",
       "    )\n",
       "  )\n",
       "  (gate_add_norm_future): Gate_Add_Norm(\n",
       "    (layernorm): LayerNorm((128,), eps=1e-05, elementwise_affine=True)\n",
       "    (GLU): GLU(\n",
       "      (linear4): Linear(in_features=128, out_features=128, bias=True)\n",
       "      (linear5): Linear(in_features=128, out_features=128, bias=True)\n",
       "    )\n",
       "  )\n",
       "  (GRN): GRN(\n",
       "    (linear1): Linear(in_features=128, out_features=128, bias=True)\n",
       "    (linear2): Linear(in_features=128, out_features=128, bias=True)\n",
       "    (GLU): GLU(\n",
       "      (linear4): Linear(in_features=128, out_features=128, bias=True)\n",
       "      (linear5): Linear(in_features=128, out_features=128, bias=True)\n",
       "    )\n",
       "    (droput): Dropout(p=0.0, inplace=False)\n",
       "    (layernorm): LayerNorm((128,), eps=1e-05, elementwise_affine=True)\n",
       "    (linear_conext): Linear(in_features=128, out_features=128, bias=False)\n",
       "  )\n",
       "  (history_lstm): LSTM(128, 128, batch_first=True)\n",
       "  (future_lstm): LSTM(128, 128, batch_first=True)\n",
       "  (history_layernorm): LayerNorm((128,), eps=0.2, elementwise_affine=True)\n",
       "  (future_layernorm): LayerNorm((128,), eps=0.2, elementwise_affine=True)\n",
       "  (InterpAttention): InterpretableMultiHeadAttention(\n",
       "    (q_linear): ModuleList(\n",
       "      (0-3): 4 x Linear(in_features=128, out_features=32, bias=True)\n",
       "    )\n",
       "    (k_linear): ModuleList(\n",
       "      (0-3): 4 x Linear(in_features=128, out_features=32, bias=True)\n",
       "    )\n",
       "    (v_linear): Linear(in_features=128, out_features=75, bias=True)\n",
       "  )\n",
       "  (attention_layernorm): LayerNorm((75,), eps=0.2, elementwise_affine=True)\n",
       "  (gate_add_norm_attention): Gate_Add_Norm(\n",
       "    (layernorm): LayerNorm((128,), eps=1e-05, elementwise_affine=True)\n",
       "    (GLU): GLU(\n",
       "      (linear4): Linear(in_features=75, out_features=128, bias=True)\n",
       "      (linear5): Linear(in_features=75, out_features=128, bias=True)\n",
       "    )\n",
       "  )\n",
       "  (attention_GRN): GRN(\n",
       "    (linear1): Linear(in_features=128, out_features=128, bias=True)\n",
       "    (linear2): Linear(in_features=128, out_features=128, bias=True)\n",
       "    (GLU): GLU(\n",
       "      (linear4): Linear(in_features=128, out_features=128, bias=True)\n",
       "      (linear5): Linear(in_features=128, out_features=128, bias=True)\n",
       "    )\n",
       "    (droput): Dropout(p=0.0, inplace=False)\n",
       "    (layernorm): LayerNorm((128,), eps=1e-05, elementwise_affine=True)\n",
       "  )\n",
       "  (gate_add_norm_last): Gate_Add_Norm(\n",
       "    (layernorm): LayerNorm((128,), eps=1e-05, elementwise_affine=True)\n",
       "    (GLU): GLU(\n",
       "      (linear4): Linear(in_features=15, out_features=128, bias=True)\n",
       "      (linear5): Linear(in_features=15, out_features=128, bias=True)\n",
       "    )\n",
       "  )\n",
       "  (GLU): GLU(\n",
       "    (linear4): Linear(in_features=128, out_features=128, bias=True)\n",
       "    (linear5): Linear(in_features=128, out_features=128, bias=True)\n",
       "  )\n",
       "  (layernorm): LayerNorm((128,), eps=1e-05, elementwise_affine=True)\n",
       "  (output_linear): Linear(in_features=128, out_features=3, bias=True)\n",
       ")"
      ]
     },
     "execution_count": 228,
     "metadata": {},
     "output_type": "execute_result"
    }
   ],
   "source": [
    "model = TFT(static_cat_feature_num_list= static_cat_feature_num_list,\n",
    "            static_cont_feature_num=static_cont_feature_num,\n",
    "            history_cat_feature_num_list= history_cat_feature_num_list,\n",
    "            history_cont_feature_num=history_cont_feature_num,\n",
    "            future_feature_list=future_feature_num,\n",
    "            history_len = history_length,\n",
    "            future_len = prediction_length,\n",
    "            dropout= dropout,\n",
    "            num_head = num_head,\n",
    "            hidden_size = hidden_size)\n",
    "model"
   ]
  },
  {
   "cell_type": "code",
   "execution_count": 229,
   "metadata": {},
   "outputs": [],
   "source": [
    "loss_function = QuantilesLoss()\n",
    "optimizer = optim.Adam(model.parameters(), lr = lr)"
   ]
  },
  {
   "cell_type": "code",
   "execution_count": 230,
   "metadata": {},
   "outputs": [
    {
     "name": "stdout",
     "output_type": "stream",
     "text": [
      "Epoch: 1,  Loss: 0.19159719347953796\n",
      "Epoch: 2,  Loss: 0.14133524894714355\n",
      "Epoch: 3,  Loss: 0.1284409761428833\n",
      "Epoch: 4,  Loss: 0.11209219694137573\n",
      "Epoch: 5,  Loss: 0.10240529477596283\n",
      "Epoch: 6,  Loss: 0.10073450207710266\n",
      "Epoch: 7,  Loss: 0.10754389315843582\n",
      "Epoch: 8,  Loss: 0.08717360347509384\n",
      "Epoch: 9,  Loss: 0.08513037860393524\n",
      "Epoch: 10,  Loss: 0.09098152816295624\n",
      "Epoch: 11,  Loss: 0.07657614350318909\n",
      "Epoch: 12,  Loss: 0.08841830492019653\n",
      "Epoch: 13,  Loss: 0.09833256900310516\n",
      "Epoch: 14,  Loss: 0.07862791419029236\n",
      "Epoch: 15,  Loss: 0.06722637265920639\n",
      "Epoch: 16,  Loss: 0.07159414887428284\n",
      "Epoch: 17,  Loss: 0.0701071098446846\n",
      "Epoch: 18,  Loss: 0.05609855055809021\n",
      "Epoch: 19,  Loss: 0.057974524796009064\n",
      "Epoch: 20,  Loss: 0.05545420944690704\n",
      "Epoch: 21,  Loss: 0.06440550088882446\n",
      "Epoch: 22,  Loss: 0.0782250463962555\n",
      "Epoch: 23,  Loss: 0.06668292731046677\n",
      "Epoch: 24,  Loss: 0.1500353217124939\n",
      "Epoch: 25,  Loss: 0.0719432383775711\n",
      "Epoch: 26,  Loss: 0.058103106915950775\n",
      "Epoch: 27,  Loss: 0.07402881234884262\n",
      "Epoch: 28,  Loss: 0.057408060878515244\n",
      "Epoch: 29,  Loss: 0.07915185391902924\n",
      "Epoch: 30,  Loss: 0.06851309537887573\n"
     ]
    }
   ],
   "source": [
    "model.train()\n",
    "batch_loss = [] \n",
    "for epoch in range(num_epochs):\n",
    "    for i, (static_cont_input, static_cat_input,history_cont_input, history_cat_input, future_input, prediction) in enumerate(loader):\n",
    "        predicted = model(static_cont_input, static_cat_input,history_cont_input, history_cat_input, future_input)\n",
    "        optimizer.zero_grad()\n",
    "        losses = loss_function(predicted = predicted, targets = prediction)\n",
    "        loss = losses.sum()\n",
    "        loss.backward()\n",
    "\n",
    "        max_grad_norm = 1.0  # Set a threshold for the maximum gradient norm\n",
    "        torch.nn.utils.clip_grad_norm_(model.parameters(), max_grad_norm)\n",
    "        optimizer.step()\n",
    "    batch_loss.append(loss.item())\n",
    "\n",
    "    print(f'Epoch: {epoch+1},  Loss: {loss.item()}')"
   ]
  },
  {
   "cell_type": "code",
   "execution_count": 231,
   "metadata": {},
   "outputs": [
    {
     "data": {
      "image/png": "[encoded data removed]",
      "text/plain": [
       "<Figure size 640x480 with 1 Axes>"
      ]
     },
     "metadata": {},
     "output_type": "display_data"
    }
   ],
   "source": [
    "import matplotlib.pyplot as plt\n",
    "x = range(len(batch_loss))\n",
    "plt.plot(x, batch_loss)\n",
    "plt.ylabel('Loss')\n",
    "plt.show()"
   ]
  },
  {
   "cell_type": "code",
   "execution_count": null,
   "metadata": {},
   "outputs": [],
   "source": []
  }
 ],
 "metadata": {
  "kernelspec": {
   "display_name": "dl_hw3",
   "language": "python",
   "name": "python3"
  },
  "language_info": {
   "codemirror_mode": {
    "name": "ipython",
    "version": 3
   },
   "file_extension": ".py",
   "mimetype": "text/x-python",
   "name": "python",
   "nbconvert_exporter": "python",
   "pygments_lexer": "ipython3",
   "version": "3.11.10"
  }
 },
 "nbformat": 4,
 "nbformat_minor": 2
}
