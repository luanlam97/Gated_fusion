{
 "cells": [
  {
   "cell_type": "code",
   "execution_count": 2,
   "metadata": {},
   "outputs": [],
   "source": [
    "import pandas as pd\n",
    "import os\n",
    "import numpy as np"
   ]
  },
  {
   "cell_type": "code",
   "execution_count": null,
   "metadata": {},
   "outputs": [],
   "source": []
  },
  {
   "cell_type": "code",
   "execution_count": 3,
   "metadata": {},
   "outputs": [],
   "source": [
    "data = []"
   ]
  },
  {
   "cell_type": "code",
   "execution_count": 4,
   "metadata": {},
   "outputs": [],
   "source": [
    "market = 'sp500' # [forbes2000, nasdaq, nyse, sp500]\n",
    "year = '2017'"
   ]
  },
  {
   "cell_type": "code",
   "execution_count": 7,
   "metadata": {},
   "outputs": [],
   "source": [
    "stock = pd.read_csv(f'dataset/sp500_{year}.csv')\n",
    "static = pd.read_csv(f\"dataset/sp500_{year}_static.csv\", index_col=0)\n",
    "stock['Date'] = pd.to_datetime(stock['Date'])\n",
    "data = stock"
   ]
  },
  {
   "cell_type": "code",
   "execution_count": 8,
   "metadata": {},
   "outputs": [],
   "source": [
    "data = data[~data.isna().any(axis=1)]"
   ]
  },
  {
   "cell_type": "code",
   "execution_count": 10,
   "metadata": {},
   "outputs": [],
   "source": [
    "from sklearn.preprocessing import StandardScaler\n",
    "\n",
    "scalers = {}\n",
    "for ticker in data['Stock Name'].unique():\n",
    "    scaler = StandardScaler()\n",
    "    ticker_data = data[data['Stock Name'] == ticker][['Open', 'High', 'Low', 'Close', 'Adjusted Close']]\n",
    "    scaled_data = scaler.fit_transform(ticker_data)\n",
    "    data.loc[data['Stock Name'] == ticker, ['Open', 'High', 'Low', 'Close', 'Adjusted Close']] = scaled_data\n",
    "    scalers[ticker] = scaler "
   ]
  },
  {
   "cell_type": "code",
   "execution_count": 11,
   "metadata": {},
   "outputs": [],
   "source": [
    "from sklearn.preprocessing import LabelEncoder\n",
    "le = LabelEncoder()\n",
    "data['ticker'] = le.fit_transform(data['Stock Name'])"
   ]
  },
  {
   "cell_type": "code",
   "execution_count": 12,
   "metadata": {},
   "outputs": [],
   "source": [
    "def create_sequences(data, target_col, input_length, output_length):\n",
    "    sequences = []\n",
    "    targets = []\n",
    "\n",
    "    data = data.reset_index().sort_values(by=['ticker', 'Date'])\n",
    "\n",
    "\n",
    "    feature_columns = ['Open', 'High', 'Low', 'Close', 'Adjusted Close']\n",
    "    all_features = data[feature_columns].values  # Convert to NumPy array\n",
    "    all_targets = data[target_col].values\n",
    "\n",
    "    tickers = data['ticker'].unique()\n",
    "    ticker_indices = data.groupby('ticker').apply(lambda x: x.index.to_numpy())\n",
    "\n",
    "    for indices in ticker_indices:\n",
    "        ticker_features = all_features[indices]\n",
    "        ticker_targets = all_targets[indices]\n",
    "\n",
    "        for i in range(len(indices) - input_length - output_length + 1):\n",
    "            input_seq = ticker_features[i:i + input_length]\n",
    "            target_seq = ticker_targets[i + input_length:i + input_length + output_length]\n",
    "\n",
    "            sequences.append(input_seq)\n",
    "            targets.append(target_seq)\n",
    "\n",
    "    return np.array(sequences), np.array(targets)\n"
   ]
  },
  {
   "cell_type": "code",
   "execution_count": 13,
   "metadata": {},
   "outputs": [
    {
     "name": "stderr",
     "output_type": "stream",
     "text": [
      "C:\\Users\\Luan\\AppData\\Local\\Temp\\ipykernel_24068\\1740457569.py:13: DeprecationWarning: DataFrameGroupBy.apply operated on the grouping columns. This behavior is deprecated, and in a future version of pandas the grouping columns will be excluded from the operation. Either pass `include_groups=False` to exclude the groupings or explicitly select the grouping columns after groupby to silence this warning.\n",
      "  ticker_indices = data.groupby('ticker').apply(lambda x: x.index.to_numpy())\n"
     ]
    }
   ],
   "source": [
    "input, targets = create_sequences(data, 'Adjusted Close', 90, 7)"
   ]
  },
  {
   "cell_type": "code",
   "execution_count": 14,
   "metadata": {},
   "outputs": [
    {
     "data": {
      "text/plain": [
       "array([[[-1.44115541, -1.42996061, -1.43533341, -1.42574887,\n",
       "         -1.41769825],\n",
       "        [-1.41169717, -1.41160391, -1.40310422, -1.40776239,\n",
       "         -1.40078189],\n",
       "        [-1.40816221, -1.42063659, -1.41683147, -1.42427458,\n",
       "         -1.41631213],\n",
       "        ...,\n",
       "        [-1.13213852, -1.1345057 , -1.12050142, -1.11968229,\n",
       "         -1.12592429],\n",
       "        [-1.11947147, -1.13304885, -1.12676819, -1.13737396,\n",
       "         -1.14260489],\n",
       "        [-1.14068132, -1.14936581, -1.135124  , -1.13855343,\n",
       "         -1.14371684]],\n",
       "\n",
       "       [[-1.41169717, -1.41160391, -1.40310422, -1.40776239,\n",
       "         -1.40078189],\n",
       "        [-1.40816221, -1.42063659, -1.41683147, -1.42427458,\n",
       "         -1.41631213],\n",
       "        [-1.42053462, -1.39149903, -1.41086306, -1.38151958,\n",
       "         -1.37610025],\n",
       "        ...,\n",
       "        [-1.11947147, -1.13304885, -1.12676819, -1.13737396,\n",
       "         -1.14260489],\n",
       "        [-1.14068132, -1.14936581, -1.135124  , -1.13855343,\n",
       "         -1.14371684],\n",
       "        [-1.13979761, -1.14878305, -1.1303493 , -1.14061746,\n",
       "         -1.14566281]],\n",
       "\n",
       "       [[-1.40816221, -1.42063659, -1.41683147, -1.42427458,\n",
       "         -1.41631213],\n",
       "        [-1.42053462, -1.39149903, -1.41086306, -1.38151958,\n",
       "         -1.37610025],\n",
       "        [-1.37988232, -1.37722157, -1.37057655, -1.37709672,\n",
       "         -1.37194034],\n",
       "        ...,\n",
       "        [-1.14068132, -1.14936581, -1.135124  , -1.13855343,\n",
       "         -1.14371684],\n",
       "        [-1.13979761, -1.14878305, -1.1303493 , -1.14061746,\n",
       "         -1.14566281],\n",
       "        [-1.14244886, -1.13829362, -1.12885723, -1.12469489,\n",
       "         -1.13065036]],\n",
       "\n",
       "       ...,\n",
       "\n",
       "       [[ 1.05545564,  1.03190636,  1.01410262,  0.99797254,\n",
       "          1.0228365 ],\n",
       "        [ 0.99089451,  0.9921033 ,  1.01138778,  1.0227513 ,\n",
       "          1.0474216 ],\n",
       "        [ 1.00780818,  1.02047577,  1.03979148,  1.04525837,\n",
       "          1.06975266],\n",
       "        ...,\n",
       "        [ 0.48739844,  0.4634363 ,  0.4827866 ,  0.480102  ,\n",
       "          0.51554596],\n",
       "        [ 0.46656566,  0.44567777,  0.46545228,  0.43942392,\n",
       "          0.47509993],\n",
       "        [ 0.42758134,  0.43281851,  0.43642174,  0.4336423 ,\n",
       "          0.46935129]],\n",
       "\n",
       "       [[ 0.99089451,  0.9921033 ,  1.01138778,  1.0227513 ,\n",
       "          1.0474216 ],\n",
       "        [ 1.00780818,  1.02047577,  1.03979148,  1.04525837,\n",
       "          1.06975266],\n",
       "        [ 1.04968021,  1.13621097,  1.08218813,  1.14437247,\n",
       "          1.1680924 ],\n",
       "        ...,\n",
       "        [ 0.46656566,  0.44567777,  0.46545228,  0.43942392,\n",
       "          0.47509993],\n",
       "        [ 0.42758134,  0.43281851,  0.43642174,  0.4336423 ,\n",
       "          0.46935129],\n",
       "        [ 0.43830696,  0.53140751,  0.4464468 ,  0.56352284,\n",
       "          0.59849093]],\n",
       "\n",
       "       [[ 1.00780818,  1.02047577,  1.03979148,  1.04525837,\n",
       "          1.06975266],\n",
       "        [ 1.04968021,  1.13621097,  1.08218813,  1.14437247,\n",
       "          1.1680924 ],\n",
       "        [ 1.14188126,  1.11722809,  1.13544478,  1.1501541 ,\n",
       "          1.17382883],\n",
       "        ...,\n",
       "        [ 0.42758134,  0.43281851,  0.43642174,  0.4336423 ,\n",
       "          0.46935129],\n",
       "        [ 0.43830696,  0.53140751,  0.4464468 ,  0.56352284,\n",
       "          0.59849093],\n",
       "        [ 0.60146367,  0.59978736,  0.61937508,  0.61514473,\n",
       "          0.64981834]]])"
      ]
     },
     "execution_count": 14,
     "metadata": {},
     "output_type": "execute_result"
    }
   ],
   "source": [
    "input"
   ]
  },
  {
   "cell_type": "code",
   "execution_count": 15,
   "metadata": {},
   "outputs": [],
   "source": [
    "import torch\n"
   ]
  },
  {
   "cell_type": "code",
   "execution_count": 16,
   "metadata": {},
   "outputs": [],
   "source": [
    "input = torch.tensor(input)\n",
    "target = torch.tensor(targets)"
   ]
  },
  {
   "cell_type": "code",
   "execution_count": 17,
   "metadata": {},
   "outputs": [
    {
     "data": {
      "text/plain": [
       "torch.Size([566047, 90, 5])"
      ]
     },
     "execution_count": 17,
     "metadata": {},
     "output_type": "execute_result"
    }
   ],
   "source": [
    "input.shape\n",
    "# target.shape"
   ]
  },
  {
   "cell_type": "code",
   "execution_count": 106,
   "metadata": {},
   "outputs": [],
   "source": [
    "# input = input.unsqueeze(-1)\n"
   ]
  },
  {
   "cell_type": "code",
   "execution_count": 19,
   "metadata": {},
   "outputs": [],
   "source": [
    "from torch.utils.data import Dataset\n",
    "\n",
    "class StockDataset(Dataset):\n",
    "    def __init__(self, input, target, ):\n",
    "        self.input = input\n",
    "        self.target = target\n",
    "    def __len__(self):\n",
    "        return len(self.input)\n",
    "    \n",
    "    def __getitem__(self, idx):\n",
    "        return self.input[idx], self.target[idx]"
   ]
  },
  {
   "cell_type": "code",
   "execution_count": 20,
   "metadata": {},
   "outputs": [],
   "source": [
    "from torch.utils.data import random_split\n",
    "from torch.utils.data import DataLoader\n",
    "\n",
    "dataset = StockDataset(input, target)"
   ]
  },
  {
   "cell_type": "code",
   "execution_count": 24,
   "metadata": {},
   "outputs": [
    {
     "data": {
      "text/plain": [
       "torch.Size([7])"
      ]
     },
     "execution_count": 24,
     "metadata": {},
     "output_type": "execute_result"
    }
   ],
   "source": [
    "dataset[0][1].shape"
   ]
  },
  {
   "cell_type": "code",
   "execution_count": 25,
   "metadata": {},
   "outputs": [],
   "source": [
    "import torch\n",
    "import torch.nn as nn\n",
    "import math\n",
    "\n",
    "\n",
    "class PositionalEncoding(nn.Module):\n",
    "    \"\"\"Positional Encoding for time-series data.\"\"\"\n",
    "    def __init__(self, d_model, max_len=5000):\n",
    "        super(PositionalEncoding, self).__init__()\n",
    "        pe = torch.zeros(max_len, d_model)\n",
    "        position = torch.arange(0, max_len, dtype=torch.float).unsqueeze(1)\n",
    "        div_term = torch.exp(\n",
    "            torch.arange(0, d_model, 2).float() * (-math.log(10000.0) / d_model)\n",
    "        )\n",
    "        pe[:, 0::2] = torch.sin(position * div_term)\n",
    "        pe[:, 1::2] = torch.cos(position * div_term)\n",
    "        pe = pe.unsqueeze(0)  # [1, max_len, d_model]\n",
    "        self.register_buffer(\"pe\", pe)\n",
    "\n",
    "    def forward(self, x):\n",
    "\n",
    "        return x + self.pe[:, : x.size(1), :]\n",
    "\n",
    "\n",
    "class DecompositionLayer(nn.Module):\n",
    "    \"\"\"Decomposes time series into trend and seasonal components.\"\"\"\n",
    "    def __init__(self, kernel_size):\n",
    "        super(DecompositionLayer, self).__init__()\n",
    "        self.moving_avg = nn.AvgPool1d(kernel_size=kernel_size, stride=1, padding=(kernel_size - 1) // 2)\n",
    "\n",
    "    def forward(self, x):\n",
    "        # x: [batch_size, seq_len, feature_dim] or [batch_size, seq_len, feature_dim, 1]\n",
    "        if len(x.shape) == 4:\n",
    "            # Handle [batch_size, seq_len, feature_dim, 1]\n",
    "            x = x.squeeze(-1)  # [batch_size, seq_len, feature_dim]\n",
    "\n",
    "        # Apply moving average on dimension representing time\n",
    "        # For AvgPool1d: input should be [batch, channels, sequence]\n",
    "        # Here: batch = batch_size, channels = feature_dim, sequence = seq_len\n",
    "        trend = self.moving_avg(x.permute(0, 2, 1)).permute(0, 2, 1)  # [batch_size, seq_len, feature_dim]\n",
    "        seasonal = x - trend\n",
    "        return seasonal, trend\n",
    "\n",
    "\n",
    "class EncoderLayer(nn.Module):\n",
    "    \"\"\"Single Encoder Layer.\"\"\"\n",
    "    def __init__(self, d_model, n_heads, ff_dim, dropout=0.1):\n",
    "        super(EncoderLayer, self).__init__()\n",
    "        self.attn = nn.MultiheadAttention(embed_dim=d_model, num_heads=n_heads, dropout=dropout)\n",
    "        self.ffn = nn.Sequential(\n",
    "            nn.Linear(d_model, ff_dim),\n",
    "            nn.ReLU(),\n",
    "            nn.Linear(ff_dim, d_model)\n",
    "        )\n",
    "        self.norm1 = nn.LayerNorm(d_model)\n",
    "        self.norm2 = nn.LayerNorm(d_model)\n",
    "        self.dropout = nn.Dropout(dropout)\n",
    "\n",
    "    def forward(self, x):\n",
    "        # x: [seq_len, batch_size, d_model]\n",
    "        attn_out, _ = self.attn(x, x, x)  # self-attention\n",
    "        x = self.norm1(x + self.dropout(attn_out))\n",
    "        ffn_out = self.ffn(x)\n",
    "        x = self.norm2(x + self.dropout(ffn_out))\n",
    "        return x  # [seq_len, batch_size, d_model]\n",
    "\n",
    "\n",
    "class Encoder(nn.Module):\n",
    "    \"\"\"Autoformer Encoder.\"\"\"\n",
    "    def __init__(self, d_model, n_heads, ff_dim, num_layers, dropout=0.1):\n",
    "        super(Encoder, self).__init__()\n",
    "        self.layers = nn.ModuleList([EncoderLayer(d_model, n_heads, ff_dim, dropout) for _ in range(num_layers)])\n",
    "\n",
    "    def forward(self, x):\n",
    "        # x: [seq_len, batch_size, d_model]\n",
    "        for layer in self.layers:\n",
    "            x = layer(x)\n",
    "        return x  # [seq_len, batch_size, d_model]\n",
    "\n",
    "\n",
    "class DecoderLayer(nn.Module):\n",
    "    \"\"\"Single Decoder Layer.\"\"\"\n",
    "    def __init__(self, d_model, n_heads, ff_dim, dropout=0.1):\n",
    "        super(DecoderLayer, self).__init__()\n",
    "        self.self_attn = nn.MultiheadAttention(embed_dim=d_model, num_heads=n_heads, dropout=dropout)\n",
    "        self.cross_attn = nn.MultiheadAttention(embed_dim=d_model, num_heads=n_heads, dropout=dropout)\n",
    "        self.ffn = nn.Sequential(\n",
    "            nn.Linear(d_model, ff_dim),\n",
    "            nn.ReLU(),\n",
    "            nn.Linear(ff_dim, d_model)\n",
    "        )\n",
    "        self.norm1 = nn.LayerNorm(d_model)\n",
    "        self.norm2 = nn.LayerNorm(d_model)\n",
    "        self.norm3 = nn.LayerNorm(d_model)\n",
    "        self.dropout = nn.Dropout(dropout)\n",
    "\n",
    "    def forward(self, x, enc_output):\n",
    "        # x, enc_output: [seq_len, batch_size, d_model]\n",
    "        # Self-attention\n",
    "        self_attn_out, _ = self.self_attn(x, x, x)\n",
    "        x = self.norm1(x + self.dropout(self_attn_out))\n",
    "\n",
    "        # Cross-attention\n",
    "        cross_attn_out, _ = self.cross_attn(x, enc_output, enc_output)\n",
    "        x = self.norm2(x + self.dropout(cross_attn_out))\n",
    "\n",
    "        # Feed-forward\n",
    "        ffn_out = self.ffn(x)\n",
    "        x = self.norm3(x + self.dropout(ffn_out))\n",
    "\n",
    "        return x  # [seq_len, batch_size, d_model]\n",
    "\n",
    "\n",
    "class Decoder(nn.Module):\n",
    "    \"\"\"Autoformer Decoder.\"\"\"\n",
    "    def __init__(self, d_model, n_heads, ff_dim, num_layers, dropout=0.1):\n",
    "        super(Decoder, self).__init__()\n",
    "        self.layers = nn.ModuleList([DecoderLayer(d_model, n_heads, ff_dim, dropout) for _ in range(num_layers)])\n",
    "\n",
    "    def forward(self, x, enc_output):\n",
    "        # x: [seq_len, batch_size, d_model]\n",
    "        # enc_output: [seq_len, batch_size, d_model]\n",
    "        for layer in self.layers:\n",
    "            x = layer(x, enc_output)\n",
    "        return x  # [seq_len, batch_size, d_model]\n",
    "\n",
    "\n",
    "class Autoformer(nn.Module):\n",
    "    def __init__(self, input_dim, d_model, n_heads, ff_dim, num_layers, kernel_size, target_len, dropout=0.1):\n",
    "        super(Autoformer, self).__init__()\n",
    "        self.input_projection = nn.Linear(input_dim, d_model)\n",
    "        self.positional_encoding = PositionalEncoding(d_model)\n",
    "        self.decomposition = DecompositionLayer(kernel_size)\n",
    "        self.encoder = Encoder(d_model, n_heads, ff_dim, num_layers, dropout)\n",
    "        self.decoder = Decoder(d_model, n_heads, ff_dim, num_layers, dropout)\n",
    "        self.output_projection = nn.Linear(d_model, 1)\n",
    "\n",
    "    def prepare_decoder_input(self, target):\n",
    "        shifted_target = torch.zeros_like(target)\n",
    "        shifted_target[:, 1:] = target[:, :-1]\n",
    "        return shifted_target\n",
    "\n",
    "    def forward(self, x, target):\n",
    "        \n",
    "        seasonal, trend = self.decomposition(x)  \n",
    "        enc_input = self.input_projection(seasonal)\n",
    "\n",
    "        enc_input = self.positional_encoding(enc_input)  \n",
    "        enc_input = enc_input.permute(1, 0, 2)\n",
    "\n",
    "        enc_output = self.encoder(enc_input) \n",
    "\n",
    "        dec_input = self.prepare_decoder_input(target)\n",
    "\n",
    "        # dec_input = self.input_projection(dec_input)\n",
    "        dec_input = self.positional_encoding(dec_input)\n",
    "        dec_input = dec_input.permute(1, 0, 2)\n",
    "\n",
    "        dec_output = self.decoder(dec_input, enc_output)\n",
    "        dec_output = dec_output.permute(1, 0, 2)\n",
    "\n",
    "        output = self.output_projection(dec_output).squeeze(-1) \n",
    "        return output\n"
   ]
  },
  {
   "cell_type": "code",
   "execution_count": 26,
   "metadata": {},
   "outputs": [],
   "source": [
    "from torch.utils.data import random_split\n",
    "from torch.utils.data import DataLoader\n",
    "\n",
    "dataset = StockDataset(input, target)"
   ]
  },
  {
   "cell_type": "code",
   "execution_count": 111,
   "metadata": {},
   "outputs": [],
   "source": [
    "import torch\n",
    "from torch.utils.data import DataLoader, Dataset, random_split\n",
    "import torch.optim as optim\n",
    "from tqdm import tqdm\n",
    "\n",
    "def train_autoformer(\n",
    "    model, train_loader, val_loader, num_epochs, device, learning_rate=0.0005, patience=5\n",
    "):\n",
    "    model.to(device)\n",
    "    criterion = torch.nn.MSELoss()\n",
    "    optimizer = optim.Adam(model.parameters(), lr=learning_rate)\n",
    "    scheduler = optim.lr_scheduler.ReduceLROnPlateau(optimizer, mode=\"min\", factor=0.5, patience=2, verbose=True)\n",
    "    best_val_loss = float(\"inf\")\n",
    "    epochs_no_improve = 0\n",
    "\n",
    "    for epoch in range(num_epochs):\n",
    "        print(f\"Epoch {epoch + 1}/{num_epochs}\")\n",
    "        model.train()\n",
    "        train_loss = 0.0\n",
    "\n",
    "        train_progress = tqdm(train_loader, desc=\"Training\", leave=False)\n",
    "        for inputs, targets in train_progress:\n",
    "            inputs, targets = inputs.float().to(device), targets.float().to(device)\n",
    "            \n",
    "            optimizer.zero_grad()\n",
    "            outputs = model(inputs, targets.unsqueeze(-1))\n",
    "            loss = criterion(outputs, targets)\n",
    "            loss.backward()\n",
    "\n",
    "            torch.nn.utils.clip_grad_norm_(model.parameters(), max_norm=1.0)\n",
    "            optimizer.step()\n",
    "            train_loss += loss.item()\n",
    "\n",
    "        train_loss /= len(train_loader)\n",
    "        print(f\"Train Loss: {train_loss:.4f}\")\n",
    "        model.eval()\n",
    "        val_loss = 0.0\n",
    "        with torch.no_grad():\n",
    "            val_progress = tqdm(val_loader, desc=\"Validating\", leave=False)\n",
    "            for inputs, targets in val_progress:\n",
    "                inputs, targets = inputs.float().to(device), targets.float().to(device)\n",
    "                outputs = model(inputs, targets.unsqueeze(-1))\n",
    "                loss = criterion(outputs, targets)\n",
    "                val_loss += loss.item()\n",
    "\n",
    "        val_loss /= len(val_loader)\n",
    "        print(f\"Validation Loss: {val_loss:.4f}\")\n",
    "        scheduler.step(val_loss)\n",
    "\n",
    "        if val_loss < best_val_loss:\n",
    "            best_val_loss = val_loss\n",
    "            torch.save(model.state_dict(), './best_long.pth')\n",
    "            print(f\"Model saved with validation loss: {val_loss:.4f}\")\n",
    "            epochs_no_improve = 0\n",
    "        else:\n",
    "            epochs_no_improve += 1\n",
    "            if epochs_no_improve >= patience:\n",
    "                print(\"Early stopping due to no improvement.\")\n",
    "                break\n"
   ]
  },
  {
   "cell_type": "code",
   "execution_count": 31,
   "metadata": {},
   "outputs": [
    {
     "name": "stdout",
     "output_type": "stream",
     "text": [
      "torch.Size([32, 90, 5])\n",
      "torch.Size([32, 7, 1])\n",
      "torch.Size([32, 7])\n"
     ]
    },
    {
     "name": "stderr",
     "output_type": "stream",
     "text": [
      "C:\\Users\\Luan\\AppData\\Local\\Temp\\ipykernel_24068\\749089616.py:47: FutureWarning: You are using `torch.load` with `weights_only=False` (the current default value), which uses the default pickle module implicitly. It is possible to construct malicious pickle data which will execute arbitrary code during unpickling (See https://github.com/pytorch/pytorch/blob/main/SECURITY.md#untrusted-models for more details). In a future release, the default value for `weights_only` will be flipped to `True`. This limits the functions that could be executed during unpickling. Arbitrary objects will no longer be allowed to be loaded via this mode unless they are explicitly allowlisted by the user via `torch.serialization.add_safe_globals`. We recommend you start setting `weights_only=True` for any use case where you don't have full control of the loaded file. Please open an issue on GitHub for any issues related to this experimental feature.\n",
      "  model.load_state_dict(torch.load('best_long.pth'))\n"
     ]
    }
   ],
   "source": [
    "import torch\n",
    "from torch.utils.data import DataLoader, Dataset, Subset\n",
    "import torch.optim as optim\n",
    "from tqdm import tqdm\n",
    "\n",
    "if __name__ == \"__main__\":\n",
    "    input_length = 90  # Length of input sequence\n",
    "    output_length = 7  # Forecast horizon\n",
    "    batch_size = 32\n",
    "    num_epochs = 20\n",
    "    d_model = 128\n",
    "    n_heads = 8\n",
    "    ff_dim = 128\n",
    "    num_layers = 2\n",
    "    kernel_size = 5\n",
    "    dropout = 0.01\n",
    "    device = \"cuda\" if torch.cuda.is_available() else \"cpu\"\n",
    "\n",
    "    # Let's say we want:\n",
    "    #  - 70% training\n",
    "    #  - 15% validation\n",
    "    #  - 15% testing\n",
    "    total_len = len(dataset)\n",
    "    train_end = int(total_len * 0.7)\n",
    "    val_end = int(total_len * 0.85)  # 70% train + 15% val = 85% total\n",
    "\n",
    "    train_dataset = Subset(dataset, range(0, train_end))\n",
    "    val_dataset = Subset(dataset, range(train_end, val_end))\n",
    "    test_dataset = Subset(dataset, range(val_end, total_len))\n",
    "\n",
    "    # Create DataLoaders\n",
    "    train_loader = DataLoader(train_dataset, batch_size=batch_size, shuffle=True)\n",
    "    val_loader = DataLoader(val_dataset, batch_size=batch_size, shuffle=False)\n",
    "    test_loader = DataLoader(test_dataset, batch_size=batch_size, shuffle=False)\n",
    "\n",
    "    # Initialize Autoformer Model\n",
    "    model = Autoformer(\n",
    "        input_dim=5,\n",
    "        d_model=d_model,\n",
    "        n_heads=n_heads,\n",
    "        ff_dim=ff_dim,\n",
    "        num_layers=num_layers,\n",
    "        kernel_size=kernel_size,\n",
    "        target_len=output_length,\n",
    "        dropout=dropout,\n",
    "    )\n",
    "    model.load_state_dict(torch.load('best_long.pth'))\n",
    "    model.to(device)\n",
    "\n",
    "    for inputs, targets in train_loader:\n",
    "        inputs, targets = inputs.float().to(device), targets.float().to(device)\n",
    "        print(inputs.size())\n",
    "        print(targets.unsqueeze(-1).size())\n",
    "        outputs = model(inputs, targets.unsqueeze(-1))\n",
    "        print(outputs.size())\n",
    "        break\n",
    "\n",
    "\n"
   ]
  },
  {
   "cell_type": "code",
   "execution_count": 114,
   "metadata": {},
   "outputs": [
    {
     "name": "stderr",
     "output_type": "stream",
     "text": [
      "Testing: 100%|██████████| 2654/2654 [00:07<00:00, 351.87it/s]"
     ]
    },
    {
     "name": "stdout",
     "output_type": "stream",
     "text": [
      "Test Loss: 0.0014\n"
     ]
    },
    {
     "name": "stderr",
     "output_type": "stream",
     "text": [
      "\n"
     ]
    }
   ],
   "source": [
    "\n",
    "    # After training, evaluate on the test set:\n",
    "    model.eval()\n",
    "    test_loss = 0.0\n",
    "    criterion = torch.nn.MSELoss()\n",
    "    with torch.no_grad():\n",
    "        for inputs, targets in tqdm(test_loader, desc=\"Testing\"):\n",
    "            inputs, targets = inputs.float().to(device), targets.float().to(device)\n",
    "            outputs = model(inputs, targets.unsqueeze(-1))\n",
    "            loss = criterion(outputs, targets)\n",
    "            test_loss += loss.item()\n",
    "\n",
    "    test_loss /= len(test_loader)\n",
    "    print(f\"Test Loss: {test_loss:.4f}\")\n"
   ]
  },
  {
   "cell_type": "code",
   "execution_count": null,
   "metadata": {},
   "outputs": [],
   "source": []
  },
  {
   "cell_type": "code",
   "execution_count": null,
   "metadata": {},
   "outputs": [],
   "source": []
  }
 ],
 "metadata": {
  "kernelspec": {
   "display_name": ".venv",
   "language": "python",
   "name": "python3"
  },
  "language_info": {
   "codemirror_mode": {
    "name": "ipython",
    "version": 3
   },
   "file_extension": ".py",
   "mimetype": "text/x-python",
   "name": "python",
   "nbconvert_exporter": "python",
   "pygments_lexer": "ipython3",
   "version": "3.11.7"
  }
 },
 "nbformat": 4,
 "nbformat_minor": 2
}
